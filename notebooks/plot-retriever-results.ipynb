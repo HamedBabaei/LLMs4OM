{
 "cells": [
  {
   "cell_type": "code",
   "execution_count": 7,
   "id": "5c11c58c-f6b8-4ddd-a2c1-55b633c49f0f",
   "metadata": {},
   "outputs": [],
   "source": [
    "import pandas as pd\n",
    "import json\n",
    "import os\n",
    "import plotly.graph_objects as go\n",
    "import numpy as np\n",
    "from plotly.subplots import make_subplots\n",
    "import plotly.io as pio\n",
    "pio.kaleido.scope.mathjax = None"
   ]
  },
  {
   "cell_type": "markdown",
   "id": "7c247f10-7c50-4dba-8f7e-298592edc6c0",
   "metadata": {
    "tags": []
   },
   "source": [
    "# Retrieval"
   ]
  },
  {
   "cell_type": "code",
   "execution_count": 8,
   "id": "e9bf2a6d-5caf-4812-99d2-b768a421b2e0",
   "metadata": {},
   "outputs": [
    {
     "name": "stdout",
     "output_type": "stream",
     "text": [
      "size of org_df: (1140, 14)\n",
      "size of filtered df: (600, 14)\n",
      "model-config\n",
      "5     82.094389\n",
      "10    84.666944\n",
      "20    86.824120\n",
      "Name: recall, dtype: float64\n"
     ]
    },
    {
     "data": {
      "text/plain": [
       "model                 model-config\n",
       "AdaRetrieval          5               90.888888\n",
       "                      10              92.564446\n",
       "                      20              93.922838\n",
       "BERTRetrieval         5               86.093784\n",
       "                      10              88.579990\n",
       "                      20              90.917147\n",
       "SpecterBERTRetrieval  5               82.106273\n",
       "                      10              84.996110\n",
       "                      20              87.316651\n",
       "TFIDFRetrieval        5               75.151610\n",
       "                      10              77.792231\n",
       "                      20              79.872322\n",
       "Name: recall, dtype: float64"
      ]
     },
     "execution_count": 8,
     "metadata": {},
     "output_type": "execute_result"
    }
   ],
   "source": [
    "org_df = pd.read_csv(\"../experiments/results/retrieval-model-results.csv\")\n",
    "\n",
    "print(\"size of org_df:\", org_df.shape)\n",
    "\n",
    "models = ['AdaRetrieval', 'TFIDFRetrieval', 'SpecterBERTRetrieval', 'BERTRetrieval']\n",
    "\n",
    "df = org_df[org_df['model'].isin(models)]\n",
    "\n",
    "print(\"size of filtered df:\", df.shape)\n",
    "\n",
    "print(df.groupby(\"model-config\")[\"recall\"].mean())\n",
    "\n",
    "df.groupby([\"model\", \"model-config\"])[\"recall\"].mean()"
   ]
  },
  {
   "cell_type": "code",
   "execution_count": 9,
   "id": "10aca834-b710-41b6-9944-197baddf1722",
   "metadata": {},
   "outputs": [],
   "source": [
    "markers_dict = {\n",
    "    \"AdaRetrieval\":\"square\",\n",
    "    \"BERTRetrieval\": \"circle\",\n",
    "    \"TFIDFRetrieval\": \"star\",\n",
    "    \"SpecterBERTRetrieval\": \"diamond\",\n",
    "}\n",
    "\n",
    "\n",
    "colors_dict = {\n",
    "    \"label\":\"green\",\n",
    "    \"label-children\": \"red\",\n",
    "    \"label-parent\": \"blue\",\n",
    "}\n",
    "\n",
    "model_name_mapper = {\n",
    "    \"AdaRetrieval\":\"Ada\",\n",
    "    \"BERTRetrieval\": \"BERT\",\n",
    "    \"TFIDFRetrieval\": \"TFIDF\",\n",
    "    \"SpecterBERTRetrieval\": \"SPECTER2\",\n",
    "}\n",
    "\n",
    "encoder_dict = {\n",
    "    \"label\":\"Concept\",\n",
    "    \"label-children\": \"Concept-Children\",\n",
    "    \"label-parent\": \"Concept-Parent\",\n",
    "}\n",
    "\n",
    "\n",
    "width = 1300\n",
    "height = 520\n",
    "\n",
    "dataset_names = list(df['ontology-name'].unique())\n",
    "\n",
    "dataset_names_mapper = {\n",
    "  'mouse-human': 'Mouse-Human', # 0 \n",
    "  \n",
    " 'envo-sweet': 'ENVO-SWEET', # 1\n",
    " 'fish-zooplankton': 'FISH-ZOOPLANKTON', # 2\n",
    " 'macroalgae-macrozoobenthos': 'ALGAE-ZOOBENTHOS', # 3\n",
    " 'taxrefldBacteria-ncbitaxonBacteria': 'Bacteria', # 4 TAXR-NCBI \n",
    " 'taxrefldChromista-ncbitaxonChromista': 'Chromista', # 5\n",
    " 'taxrefldFungi-ncbitaxonFungi': 'Fungi', # 6\n",
    " 'taxrefldPlantae-ncbitaxonPlantae': 'Plantae', # 7\n",
    " 'taxrefldProtozoa-ncbitaxonProtozoa': 'Protozoa', # 8\n",
    " \n",
    " 'hp-mp': 'HP-MP', # 9\n",
    " 'doid-ordo': 'DOID-ORDO', # 10\n",
    "  \n",
    " 'nell-dbpedia': 'Nell-DBpedia', # 11\n",
    " 'yago-wikidata': 'YAGO-Wikidata', # 12\n",
    "\n",
    " 'snomed-ncit.neoplas': 'SNOMED-NCIT ', # 13 (neoplas)\n",
    " 'snomed-ncit.pharm': 'SNOMED-NCIT', # 14  (pharm)\n",
    "  'ncit-doid.disease': 'NCIT-DOID', # 15 (disease)\n",
    " 'omim-ordo.disease': 'OMIM-ORDO', # 16 (disease)\n",
    " 'snomed-fma.body': 'SNOMED-FMA', # 17 (body)\n",
    " \n",
    "    \n",
    "    'MaterialInformation-MatOnto': 'MI-MatOnto', # 18\n",
    "    'MaterialInformation-EMMO': 'MI-EMMO', # 19\n",
    " \n",
    "}\n",
    "\n",
    "tracks = {\"Anatomy\":[0, 1], \"Biodiv\":[1, 9], \"Phenotype\":[9, 11], \"CommonKG\":[11, 13], \"Bio-ML\":[13, 18], \"MSE\":[18, 20]}"
   ]
  },
  {
   "cell_type": "code",
   "execution_count": 27,
   "id": "8f2bbf40-4eb4-4f2d-80f9-c54eef82db6d",
   "metadata": {},
   "outputs": [
    {
     "data": {
      "application/vnd.plotly.v1+json": {
       "config": {
        "plotlyServerURL": "https://plot.ly"
       },
       "data": [
        {
         "line": {
          "color": "green"
         },
         "marker": {
          "size": 12,
          "symbol": "square-open"
         },
         "mode": "markers",
         "name": "Ada (C)",
         "showlegend": true,
         "type": "scatter",
         "x": [
          "Mouse-Human"
         ],
         "xaxis": "x",
         "y": [
          95.71240105540898
         ],
         "yaxis": "y"
        },
        {
         "line": {
          "color": "green"
         },
         "marker": {
          "size": 12,
          "symbol": "circle-open"
         },
         "mode": "markers",
         "name": "BERT (C)",
         "showlegend": true,
         "type": "scatter",
         "x": [
          "Mouse-Human"
         ],
         "xaxis": "x",
         "y": [
          92.74406332453826
         ],
         "yaxis": "y"
        },
        {
         "line": {
          "color": "green"
         },
         "marker": {
          "size": 12,
          "symbol": "diamond-open"
         },
         "mode": "markers",
         "name": "SPECTER2 (C)",
         "showlegend": true,
         "type": "scatter",
         "x": [
          "Mouse-Human"
         ],
         "xaxis": "x",
         "y": [
          89.31398416886543
         ],
         "yaxis": "y"
        },
        {
         "line": {
          "color": "green"
         },
         "marker": {
          "size": 12,
          "symbol": "star-open"
         },
         "mode": "markers",
         "name": "TFIDF (C)",
         "showlegend": true,
         "type": "scatter",
         "x": [
          "Mouse-Human"
         ],
         "xaxis": "x",
         "y": [
          84.5646437994723
         ],
         "yaxis": "y"
        },
        {
         "line": {
          "color": "green"
         },
         "marker": {
          "size": 12,
          "symbol": "square-open"
         },
         "mode": "markers",
         "name": "Ada (C)",
         "showlegend": false,
         "type": "scatter",
         "x": [
          "ENVO-SWEET",
          "FISH-ZOOPLANKTON",
          "ALGAE-ZOOBENTHOS",
          "Bacteria",
          "Chromista",
          "Fungi",
          "Plantae",
          "Protozoa"
         ],
         "xaxis": "x2",
         "y": [
          78.88198757763976,
          100,
          94.44444444444444,
          100,
          100,
          100,
          99.9899568143015,
          100
         ],
         "yaxis": "y2"
        },
        {
         "line": {
          "color": "green"
         },
         "marker": {
          "size": 12,
          "symbol": "circle-open"
         },
         "mode": "markers",
         "name": "BERT (C)",
         "showlegend": false,
         "type": "scatter",
         "x": [
          "ENVO-SWEET",
          "FISH-ZOOPLANKTON",
          "ALGAE-ZOOBENTHOS",
          "Bacteria",
          "Chromista",
          "Fungi",
          "Plantae",
          "Protozoa"
         ],
         "xaxis": "x2",
         "y": [
          76.0248447204969,
          93.33333333333331,
          83.33333333333334,
          100,
          100,
          100,
          99.959827257206,
          100
         ],
         "yaxis": "y2"
        },
        {
         "line": {
          "color": "green"
         },
         "marker": {
          "size": 12,
          "symbol": "diamond-open"
         },
         "mode": "markers",
         "name": "SPECTER2 (C)",
         "showlegend": false,
         "type": "scatter",
         "x": [
          "ENVO-SWEET",
          "FISH-ZOOPLANKTON",
          "ALGAE-ZOOBENTHOS",
          "Bacteria",
          "Chromista",
          "Fungi",
          "Plantae",
          "Protozoa"
         ],
         "xaxis": "x2",
         "y": [
          69.68944099378882,
          100,
          77.77777777777779,
          100,
          99.7864768683274,
          99.99015941743752,
          99.90961132871348,
          100
         ],
         "yaxis": "y2"
        },
        {
         "line": {
          "color": "green"
         },
         "marker": {
          "size": 12,
          "symbol": "star-open"
         },
         "mode": "markers",
         "name": "TFIDF (C)",
         "showlegend": false,
         "type": "scatter",
         "x": [
          "ENVO-SWEET",
          "FISH-ZOOPLANKTON",
          "ALGAE-ZOOBENTHOS",
          "Bacteria",
          "Chromista",
          "Fungi",
          "Plantae",
          "Protozoa"
         ],
         "xaxis": "x2",
         "y": [
          51.925465838509325,
          86.66666666666667,
          72.22222222222221,
          100,
          99.288256227758,
          99.99015941743752,
          99.80415787887918,
          100
         ],
         "yaxis": "y2"
        },
        {
         "line": {
          "color": "green"
         },
         "marker": {
          "size": 12,
          "symbol": "square-open"
         },
         "mode": "markers",
         "name": "Ada (C)",
         "showlegend": false,
         "type": "scatter",
         "x": [
          "HP-MP",
          "DOID-ORDO"
         ],
         "xaxis": "x3",
         "y": [
          99.71264367816092,
          100
         ],
         "yaxis": "y3"
        },
        {
         "line": {
          "color": "green"
         },
         "marker": {
          "size": 12,
          "symbol": "circle-open"
         },
         "mode": "markers",
         "name": "BERT (C)",
         "showlegend": false,
         "type": "scatter",
         "x": [
          "HP-MP",
          "DOID-ORDO"
         ],
         "xaxis": "x3",
         "y": [
          99.71264367816092,
          100
         ],
         "yaxis": "y3"
        },
        {
         "line": {
          "color": "green"
         },
         "marker": {
          "size": 12,
          "symbol": "diamond-open"
         },
         "mode": "markers",
         "name": "SPECTER2 (C)",
         "showlegend": false,
         "type": "scatter",
         "x": [
          "HP-MP",
          "DOID-ORDO"
         ],
         "xaxis": "x3",
         "y": [
          99.85632183908046,
          99.91915925626516
         ],
         "yaxis": "y3"
        },
        {
         "line": {
          "color": "green"
         },
         "marker": {
          "size": 12,
          "symbol": "star-open"
         },
         "mode": "markers",
         "name": "TFIDF (C)",
         "showlegend": false,
         "type": "scatter",
         "x": [
          "HP-MP",
          "DOID-ORDO"
         ],
         "xaxis": "x3",
         "y": [
          99.42528735632185,
          98.54486661277284
         ],
         "yaxis": "y3"
        },
        {
         "line": {
          "color": "green"
         },
         "marker": {
          "size": 12,
          "symbol": "square-open"
         },
         "mode": "markers",
         "name": "Ada (C)",
         "showlegend": false,
         "type": "scatter",
         "x": [
          "Nell-DBpedia",
          "YAGO-Wikidata"
         ],
         "xaxis": "x4",
         "y": [
          98.44961240310076,
          98.35526315789474
         ],
         "yaxis": "y4"
        },
        {
         "line": {
          "color": "green"
         },
         "marker": {
          "size": 12,
          "symbol": "circle-open"
         },
         "mode": "markers",
         "name": "BERT (C)",
         "showlegend": false,
         "type": "scatter",
         "x": [
          "Nell-DBpedia",
          "YAGO-Wikidata"
         ],
         "xaxis": "x4",
         "y": [
          98.44961240310076,
          97.36842105263158
         ],
         "yaxis": "y4"
        },
        {
         "line": {
          "color": "green"
         },
         "marker": {
          "size": 12,
          "symbol": "diamond-open"
         },
         "mode": "markers",
         "name": "SPECTER2 (C)",
         "showlegend": false,
         "type": "scatter",
         "x": [
          "Nell-DBpedia",
          "YAGO-Wikidata"
         ],
         "xaxis": "x4",
         "y": [
          96.12403100775194,
          88.81578947368422
         ],
         "yaxis": "y4"
        },
        {
         "line": {
          "color": "green"
         },
         "marker": {
          "size": 12,
          "symbol": "star-open"
         },
         "mode": "markers",
         "name": "TFIDF (C)",
         "showlegend": false,
         "type": "scatter",
         "x": [
          "Nell-DBpedia",
          "YAGO-Wikidata"
         ],
         "xaxis": "x4",
         "y": [
          78.29457364341084,
          40.131578947368425
         ],
         "yaxis": "y4"
        },
        {
         "line": {
          "color": "green"
         },
         "marker": {
          "size": 12,
          "symbol": "square-open"
         },
         "mode": "markers",
         "name": "Ada (C)",
         "showlegend": false,
         "type": "scatter",
         "x": [
          "SNOMED-NCIT ",
          "SNOMED-NCIT",
          "NCIT-DOID",
          "OMIM-ORDO",
          "SNOMED-FMA"
         ],
         "xaxis": "x5",
         "y": [
          82.6235541535226,
          95.31276925728072,
          91.91207853179684,
          72.82988443966676,
          80.54024255788313
         ],
         "yaxis": "y5"
        },
        {
         "line": {
          "color": "green"
         },
         "marker": {
          "size": 12,
          "symbol": "circle-open"
         },
         "mode": "markers",
         "name": "BERT (C)",
         "showlegend": false,
         "type": "scatter",
         "x": [
          "SNOMED-NCIT ",
          "SNOMED-NCIT",
          "NCIT-DOID",
          "OMIM-ORDO",
          "SNOMED-FMA"
         ],
         "xaxis": "x5",
         "y": [
          79.65299684542587,
          92.8657590901258,
          90.2475458813487,
          71.48615963450685,
          74.65545755237045
         ],
         "yaxis": "y5"
        },
        {
         "line": {
          "color": "green"
         },
         "marker": {
          "size": 12,
          "symbol": "diamond-open"
         },
         "mode": "markers",
         "name": "SPECTER2 (C)",
         "showlegend": false,
         "type": "scatter",
         "x": [
          "SNOMED-NCIT ",
          "SNOMED-NCIT",
          "NCIT-DOID",
          "OMIM-ORDO",
          "SNOMED-FMA"
         ],
         "xaxis": "x5",
         "y": [
          78.54889589905363,
          89.48819576081337,
          90.73836961160904,
          70.8949207202365,
          52.63230429988974
         ],
         "yaxis": "y5"
        },
        {
         "line": {
          "color": "green"
         },
         "marker": {
          "size": 12,
          "symbol": "star-open"
         },
         "mode": "markers",
         "name": "TFIDF (C)",
         "showlegend": false,
         "type": "scatter",
         "x": [
          "SNOMED-NCIT ",
          "SNOMED-NCIT",
          "NCIT-DOID",
          "OMIM-ORDO",
          "SNOMED-FMA"
         ],
         "xaxis": "x5",
         "y": [
          66.11461619348054,
          73.39307254868172,
          81.19931711481007,
          69.44369793066379,
          30.292171995589857
         ],
         "yaxis": "y5"
        },
        {
         "line": {
          "color": "green"
         },
         "marker": {
          "size": 12,
          "symbol": "square-open"
         },
         "mode": "markers",
         "name": "Ada (C)",
         "showlegend": false,
         "type": "scatter",
         "x": [
          "MI-MatOnto",
          "MI-EMMO"
         ],
         "xaxis": "x6",
         "y": [
          33.77483443708609,
          95.23809523809524
         ],
         "yaxis": "y6"
        },
        {
         "line": {
          "color": "green"
         },
         "marker": {
          "size": 12,
          "symbol": "circle-open"
         },
         "mode": "markers",
         "name": "BERT (C)",
         "showlegend": false,
         "type": "scatter",
         "x": [
          "MI-MatOnto",
          "MI-EMMO"
         ],
         "xaxis": "x6",
         "y": [
          49.00662251655629,
          100
         ],
         "yaxis": "y6"
        },
        {
         "line": {
          "color": "green"
         },
         "marker": {
          "size": 12,
          "symbol": "diamond-open"
         },
         "mode": "markers",
         "name": "SPECTER2 (C)",
         "showlegend": false,
         "type": "scatter",
         "x": [
          "MI-MatOnto",
          "MI-EMMO"
         ],
         "xaxis": "x6",
         "y": [
          26.158940397350992,
          96.82539682539682
         ],
         "yaxis": "y6"
        },
        {
         "line": {
          "color": "green"
         },
         "marker": {
          "size": 12,
          "symbol": "star-open"
         },
         "mode": "markers",
         "name": "TFIDF (C)",
         "showlegend": false,
         "type": "scatter",
         "x": [
          "MI-MatOnto",
          "MI-EMMO"
         ],
         "xaxis": "x6",
         "y": [
          22.18543046357616,
          87.3015873015873
         ],
         "yaxis": "y6"
        },
        {
         "line": {
          "color": "red"
         },
         "marker": {
          "size": 12,
          "symbol": "circle-open"
         },
         "mode": "markers",
         "name": "BERT (CC)",
         "showlegend": false,
         "type": "scatter",
         "x": [
          "Mouse-Human"
         ],
         "xaxis": "x",
         "y": [
          88.78627968337732
         ],
         "yaxis": "y"
        },
        {
         "line": {
          "color": "red"
         },
         "marker": {
          "size": 12,
          "symbol": "diamond-open"
         },
         "mode": "markers",
         "name": "SPECTER2 (CC)",
         "showlegend": false,
         "type": "scatter",
         "x": [
          "Mouse-Human"
         ],
         "xaxis": "x",
         "y": [
          85.62005277044855
         ],
         "yaxis": "y"
        },
        {
         "line": {
          "color": "red"
         },
         "marker": {
          "size": 12,
          "symbol": "star-open"
         },
         "mode": "markers",
         "name": "TFIDF (CC)",
         "showlegend": false,
         "type": "scatter",
         "x": [
          "Mouse-Human"
         ],
         "xaxis": "x",
         "y": [
          85.15831134564644
         ],
         "yaxis": "y"
        },
        {
         "line": {
          "color": "red"
         },
         "marker": {
          "size": 12,
          "symbol": "circle-open"
         },
         "mode": "markers",
         "name": "BERT (CC)",
         "showlegend": true,
         "type": "scatter",
         "x": [
          "ENVO-SWEET",
          "FISH-ZOOPLANKTON",
          "ALGAE-ZOOBENTHOS",
          "Bacteria",
          "Chromista",
          "Fungi",
          "Plantae",
          "Protozoa"
         ],
         "xaxis": "x2",
         "y": [
          59.62732919254658,
          100,
          88.88888888888889,
          100,
          100,
          100,
          99.959827257206,
          100
         ],
         "yaxis": "y2"
        },
        {
         "line": {
          "color": "red"
         },
         "marker": {
          "size": 12,
          "symbol": "diamond-open"
         },
         "mode": "markers",
         "name": "SPECTER2 (CC)",
         "showlegend": true,
         "type": "scatter",
         "x": [
          "ENVO-SWEET",
          "FISH-ZOOPLANKTON",
          "ALGAE-ZOOBENTHOS",
          "Bacteria",
          "Chromista",
          "Fungi",
          "Plantae",
          "Protozoa"
         ],
         "xaxis": "x2",
         "y": [
          52.79503105590062,
          80,
          72.22222222222221,
          100,
          99.8576512455516,
          99.99015941743752,
          99.88952495731644,
          100
         ],
         "yaxis": "y2"
        },
        {
         "line": {
          "color": "red"
         },
         "marker": {
          "size": 12,
          "symbol": "star-open"
         },
         "mode": "markers",
         "name": "TFIDF (CC)",
         "showlegend": true,
         "type": "scatter",
         "x": [
          "ENVO-SWEET",
          "FISH-ZOOPLANKTON",
          "ALGAE-ZOOBENTHOS",
          "Bacteria",
          "Chromista",
          "Fungi",
          "Plantae",
          "Protozoa"
         ],
         "xaxis": "x2",
         "y": [
          53.54037267080746,
          80,
          72.22222222222221,
          100,
          99.14590747330962,
          99.99015941743752,
          99.79913628602992,
          100
         ],
         "yaxis": "y2"
        },
        {
         "line": {
          "color": "red"
         },
         "marker": {
          "size": 12,
          "symbol": "circle-open"
         },
         "mode": "markers",
         "name": "BERT (CC)",
         "showlegend": false,
         "type": "scatter",
         "x": [
          "HP-MP",
          "DOID-ORDO"
         ],
         "xaxis": "x3",
         "y": [
          86.49425287356321,
          90.13742926434924
         ],
         "yaxis": "y3"
        },
        {
         "line": {
          "color": "red"
         },
         "marker": {
          "size": 12,
          "symbol": "diamond-open"
         },
         "mode": "markers",
         "name": "SPECTER2 (CC)",
         "showlegend": false,
         "type": "scatter",
         "x": [
          "HP-MP",
          "DOID-ORDO"
         ],
         "xaxis": "x3",
         "y": [
          91.66666666666666,
          95.55375909458368
         ],
         "yaxis": "y3"
        },
        {
         "line": {
          "color": "red"
         },
         "marker": {
          "size": 12,
          "symbol": "star-open"
         },
         "mode": "markers",
         "name": "TFIDF (CC)",
         "showlegend": false,
         "type": "scatter",
         "x": [
          "HP-MP",
          "DOID-ORDO"
         ],
         "xaxis": "x3",
         "y": [
          96.98275862068964,
          97.17057396928053
         ],
         "yaxis": "y3"
        },
        {
         "line": {
          "color": "red"
         },
         "marker": {
          "size": 12,
          "symbol": "circle-open"
         },
         "mode": "markers",
         "name": "BERT (CC)",
         "showlegend": false,
         "type": "scatter",
         "x": [
          "Nell-DBpedia",
          "YAGO-Wikidata"
         ],
         "xaxis": "x4",
         "y": [
          98.44961240310076,
          97.36842105263158
         ],
         "yaxis": "y4"
        },
        {
         "line": {
          "color": "red"
         },
         "marker": {
          "size": 12,
          "symbol": "diamond-open"
         },
         "mode": "markers",
         "name": "SPECTER2 (CC)",
         "showlegend": false,
         "type": "scatter",
         "x": [
          "Nell-DBpedia",
          "YAGO-Wikidata"
         ],
         "xaxis": "x4",
         "y": [
          96.12403100775194,
          88.81578947368422
         ],
         "yaxis": "y4"
        },
        {
         "line": {
          "color": "red"
         },
         "marker": {
          "size": 12,
          "symbol": "star-open"
         },
         "mode": "markers",
         "name": "TFIDF (CC)",
         "showlegend": false,
         "type": "scatter",
         "x": [
          "Nell-DBpedia",
          "YAGO-Wikidata"
         ],
         "xaxis": "x4",
         "y": [
          78.29457364341084,
          40.131578947368425
         ],
         "yaxis": "y4"
        },
        {
         "line": {
          "color": "red"
         },
         "marker": {
          "size": 12,
          "symbol": "circle-open"
         },
         "mode": "markers",
         "name": "BERT (CC)",
         "showlegend": false,
         "type": "scatter",
         "x": [
          "SNOMED-NCIT ",
          "SNOMED-NCIT",
          "NCIT-DOID",
          "OMIM-ORDO",
          "SNOMED-FMA"
         ],
         "xaxis": "x5",
         "y": [
          75.3154574132492,
          90.7461657763226,
          78.57447716602645,
          67.21311475409836,
          47.229878721058434
         ],
         "yaxis": "y5"
        },
        {
         "line": {
          "color": "red"
         },
         "marker": {
          "size": 12,
          "symbol": "diamond-open"
         },
         "mode": "markers",
         "name": "SPECTER2 (CC)",
         "showlegend": false,
         "type": "scatter",
         "x": [
          "SNOMED-NCIT ",
          "SNOMED-NCIT",
          "NCIT-DOID",
          "OMIM-ORDO",
          "SNOMED-FMA"
         ],
         "xaxis": "x5",
         "y": [
          75.86750788643532,
          86.14509736343271,
          80.85787451984635,
          69.33619994625101,
          37.48621830209482
         ],
         "yaxis": "y5"
        },
        {
         "line": {
          "color": "red"
         },
         "marker": {
          "size": 12,
          "symbol": "star-open"
         },
         "mode": "markers",
         "name": "TFIDF (CC)",
         "showlegend": false,
         "type": "scatter",
         "x": [
          "SNOMED-NCIT ",
          "SNOMED-NCIT",
          "NCIT-DOID",
          "OMIM-ORDO",
          "SNOMED-FMA"
         ],
         "xaxis": "x5",
         "y": [
          65.90431125131441,
          85.57642598655868,
          81.09261630388391,
          69.4974469228702,
          38.00992282249173
         ],
         "yaxis": "y5"
        },
        {
         "line": {
          "color": "red"
         },
         "marker": {
          "size": 12,
          "symbol": "circle-open"
         },
         "mode": "markers",
         "name": "BERT (CC)",
         "showlegend": false,
         "type": "scatter",
         "x": [
          "MI-MatOnto",
          "MI-EMMO"
         ],
         "xaxis": "x6",
         "y": [
          47.35099337748344,
          68.25396825396825
         ],
         "yaxis": "y6"
        },
        {
         "line": {
          "color": "red"
         },
         "marker": {
          "size": 12,
          "symbol": "diamond-open"
         },
         "mode": "markers",
         "name": "SPECTER2 (CC)",
         "showlegend": false,
         "type": "scatter",
         "x": [
          "MI-MatOnto",
          "MI-EMMO"
         ],
         "xaxis": "x6",
         "y": [
          22.18543046357616,
          57.14285714285714
         ],
         "yaxis": "y6"
        },
        {
         "line": {
          "color": "red"
         },
         "marker": {
          "size": 12,
          "symbol": "star-open"
         },
         "mode": "markers",
         "name": "TFIDF (CC)",
         "showlegend": false,
         "type": "scatter",
         "x": [
          "MI-MatOnto",
          "MI-EMMO"
         ],
         "xaxis": "x6",
         "y": [
          22.18543046357616,
          63.49206349206349
         ],
         "yaxis": "y6"
        },
        {
         "line": {
          "color": "blue"
         },
         "marker": {
          "size": 12,
          "symbol": "circle-open"
         },
         "mode": "markers",
         "name": "BERT (CP)",
         "showlegend": false,
         "type": "scatter",
         "x": [
          "Mouse-Human"
         ],
         "xaxis": "x",
         "y": [
          90.36939313984168
         ],
         "yaxis": "y"
        },
        {
         "line": {
          "color": "blue"
         },
         "marker": {
          "size": 12,
          "symbol": "diamond-open"
         },
         "mode": "markers",
         "name": "SPECTER2 (CP)",
         "showlegend": false,
         "type": "scatter",
         "x": [
          "Mouse-Human"
         ],
         "xaxis": "x",
         "y": [
          87.20316622691293
         ],
         "yaxis": "y"
        },
        {
         "line": {
          "color": "blue"
         },
         "marker": {
          "size": 12,
          "symbol": "star-open"
         },
         "mode": "markers",
         "name": "TFIDF (CP)",
         "showlegend": false,
         "type": "scatter",
         "x": [
          "Mouse-Human"
         ],
         "xaxis": "x",
         "y": [
          83.7071240105541
         ],
         "yaxis": "y"
        },
        {
         "line": {
          "color": "blue"
         },
         "marker": {
          "size": 12,
          "symbol": "circle-open"
         },
         "mode": "markers",
         "name": "BERT (CP)",
         "showlegend": true,
         "type": "scatter",
         "x": [
          "ENVO-SWEET",
          "FISH-ZOOPLANKTON",
          "ALGAE-ZOOBENTHOS",
          "Bacteria",
          "Chromista",
          "Fungi",
          "Plantae",
          "Protozoa"
         ],
         "xaxis": "x2",
         "y": [
          60.86956521739131,
          93.33333333333331,
          83.33333333333334,
          100,
          99.7153024911032,
          99.88191300925014,
          99.82424425027618,
          100
         ],
         "yaxis": "y2"
        },
        {
         "line": {
          "color": "blue"
         },
         "marker": {
          "size": 12,
          "symbol": "diamond-open"
         },
         "mode": "markers",
         "name": "SPECTER2 (CP)",
         "showlegend": true,
         "type": "scatter",
         "x": [
          "ENVO-SWEET",
          "FISH-ZOOPLANKTON",
          "ALGAE-ZOOBENTHOS",
          "Bacteria",
          "Chromista",
          "Fungi",
          "Plantae",
          "Protozoa"
         ],
         "xaxis": "x2",
         "y": [
          54.03726708074535,
          80,
          83.33333333333334,
          100,
          99.3594306049822,
          99.48828970675063,
          99.09611328713468,
          100
         ],
         "yaxis": "y2"
        },
        {
         "line": {
          "color": "blue"
         },
         "marker": {
          "size": 12,
          "symbol": "star-open"
         },
         "mode": "markers",
         "name": "TFIDF (CP)",
         "showlegend": true,
         "type": "scatter",
         "x": [
          "ENVO-SWEET",
          "FISH-ZOOPLANKTON",
          "ALGAE-ZOOBENTHOS",
          "Bacteria",
          "Chromista",
          "Fungi",
          "Plantae",
          "Protozoa"
         ],
         "xaxis": "x2",
         "y": [
          53.7888198757764,
          73.33333333333333,
          66.66666666666666,
          100,
          99.5729537366548,
          99.97047825231252,
          99.82926584312544,
          100
         ],
         "yaxis": "y2"
        },
        {
         "line": {
          "color": "blue"
         },
         "marker": {
          "size": 12,
          "symbol": "circle-open"
         },
         "mode": "markers",
         "name": "BERT (CP)",
         "showlegend": false,
         "type": "scatter",
         "x": [
          "HP-MP",
          "DOID-ORDO"
         ],
         "xaxis": "x3",
         "y": [
          93.2471264367816,
          93.61358124494744
         ],
         "yaxis": "y3"
        },
        {
         "line": {
          "color": "blue"
         },
         "marker": {
          "size": 12,
          "symbol": "diamond-open"
         },
         "mode": "markers",
         "name": "SPECTER2 (CP)",
         "showlegend": false,
         "type": "scatter",
         "x": [
          "HP-MP",
          "DOID-ORDO"
         ],
         "xaxis": "x3",
         "y": [
          95.25862068965516,
          91.83508488278092
         ],
         "yaxis": "y3"
        },
        {
         "line": {
          "color": "blue"
         },
         "marker": {
          "size": 12,
          "symbol": "star-open"
         },
         "mode": "markers",
         "name": "TFIDF (CP)",
         "showlegend": false,
         "type": "scatter",
         "x": [
          "HP-MP",
          "DOID-ORDO"
         ],
         "xaxis": "x3",
         "y": [
          91.95402298850574,
          92.5626515763945
         ],
         "yaxis": "y3"
        },
        {
         "line": {
          "color": "blue"
         },
         "marker": {
          "size": 12,
          "symbol": "circle-open"
         },
         "mode": "markers",
         "name": "BERT (CP)",
         "showlegend": false,
         "type": "scatter",
         "x": [
          "Nell-DBpedia",
          "YAGO-Wikidata"
         ],
         "xaxis": "x4",
         "y": [
          98.44961240310076,
          97.36842105263158
         ],
         "yaxis": "y4"
        },
        {
         "line": {
          "color": "blue"
         },
         "marker": {
          "size": 12,
          "symbol": "diamond-open"
         },
         "mode": "markers",
         "name": "SPECTER2 (CP)",
         "showlegend": false,
         "type": "scatter",
         "x": [
          "Nell-DBpedia",
          "YAGO-Wikidata"
         ],
         "xaxis": "x4",
         "y": [
          96.12403100775194,
          88.81578947368422
         ],
         "yaxis": "y4"
        },
        {
         "line": {
          "color": "blue"
         },
         "marker": {
          "size": 12,
          "symbol": "star-open"
         },
         "mode": "markers",
         "name": "TFIDF (CP)",
         "showlegend": false,
         "type": "scatter",
         "x": [
          "Nell-DBpedia",
          "YAGO-Wikidata"
         ],
         "xaxis": "x4",
         "y": [
          78.29457364341084,
          40.131578947368425
         ],
         "yaxis": "y4"
        },
        {
         "line": {
          "color": "blue"
         },
         "marker": {
          "size": 12,
          "symbol": "circle-open"
         },
         "mode": "markers",
         "name": "BERT (CP)",
         "showlegend": false,
         "type": "scatter",
         "x": [
          "SNOMED-NCIT ",
          "SNOMED-NCIT",
          "NCIT-DOID",
          "OMIM-ORDO",
          "SNOMED-FMA"
         ],
         "xaxis": "x5",
         "y": [
          74.36908517350159,
          76.66724108219887,
          85.80879214682031,
          70.43805428648213,
          63.45093715545755
         ],
         "yaxis": "y5"
        },
        {
         "line": {
          "color": "blue"
         },
         "marker": {
          "size": 12,
          "symbol": "diamond-open"
         },
         "mode": "markers",
         "name": "SPECTER2 (CP)",
         "showlegend": false,
         "type": "scatter",
         "x": [
          "SNOMED-NCIT ",
          "SNOMED-NCIT",
          "NCIT-DOID",
          "OMIM-ORDO",
          "SNOMED-FMA"
         ],
         "xaxis": "x5",
         "y": [
          74.1850683491062,
          72.9794933655006,
          87.58002560819462,
          68.42246707874227,
          47.69845644983462
         ],
         "yaxis": "y5"
        },
        {
         "line": {
          "color": "blue"
         },
         "marker": {
          "size": 12,
          "symbol": "star-open"
         },
         "mode": "markers",
         "name": "TFIDF (CP)",
         "showlegend": false,
         "type": "scatter",
         "x": [
          "SNOMED-NCIT ",
          "SNOMED-NCIT",
          "NCIT-DOID",
          "OMIM-ORDO",
          "SNOMED-FMA"
         ],
         "xaxis": "x5",
         "y": [
          65.4311251314406,
          56.90160261933482,
          79.66282543747333,
          69.12120397742542,
          24.738147739801544
         ],
         "yaxis": "y5"
        },
        {
         "line": {
          "color": "blue"
         },
         "marker": {
          "size": 12,
          "symbol": "circle-open"
         },
         "mode": "markers",
         "name": "BERT (CP)",
         "showlegend": false,
         "type": "scatter",
         "x": [
          "MI-MatOnto",
          "MI-EMMO"
         ],
         "xaxis": "x6",
         "y": [
          47.682119205298015,
          53.96825396825397
         ],
         "yaxis": "y6"
        },
        {
         "line": {
          "color": "blue"
         },
         "marker": {
          "size": 12,
          "symbol": "diamond-open"
         },
         "mode": "markers",
         "name": "SPECTER2 (CP)",
         "showlegend": false,
         "type": "scatter",
         "x": [
          "MI-MatOnto",
          "MI-EMMO"
         ],
         "xaxis": "x6",
         "y": [
          48.01324503311258,
          34.92063492063492
         ],
         "yaxis": "y6"
        },
        {
         "line": {
          "color": "blue"
         },
         "marker": {
          "size": 12,
          "symbol": "star-open"
         },
         "mode": "markers",
         "name": "TFIDF (CP)",
         "showlegend": false,
         "type": "scatter",
         "x": [
          "MI-MatOnto",
          "MI-EMMO"
         ],
         "xaxis": "x6",
         "y": [
          23.178807947019862,
          41.26984126984127
         ],
         "yaxis": "y6"
        }
       ],
       "layout": {
        "annotations": [
         {
          "font": {
           "size": 16
          },
          "showarrow": false,
          "text": "Anatomy",
          "x": 0.02621621621621622,
          "xanchor": "center",
          "xref": "paper",
          "y": 1,
          "yanchor": "bottom",
          "yref": "paper"
         },
         {
          "font": {
           "size": 16
          },
          "showarrow": false,
          "text": "Biodiv",
          "x": 0.2681621621621622,
          "xanchor": "center",
          "xref": "paper",
          "y": 1,
          "yanchor": "bottom",
          "yref": "paper"
         },
         {
          "font": {
           "size": 16
          },
          "showarrow": false,
          "text": "Phenotype",
          "x": 0.5232162162162163,
          "xanchor": "center",
          "xref": "paper",
          "y": 1,
          "yanchor": "bottom",
          "yref": "paper"
         },
         {
          "font": {
           "size": 16
          },
          "showarrow": false,
          "text": "CommonKG",
          "x": 0.6078648648648649,
          "xanchor": "center",
          "xref": "paper",
          "y": 1,
          "yanchor": "bottom",
          "yref": "paper"
         },
         {
          "font": {
           "size": 16
          },
          "showarrow": false,
          "text": "Bio-ML",
          "x": 0.7842702702702703,
          "xanchor": "center",
          "xref": "paper",
          "y": 1,
          "yanchor": "bottom",
          "yref": "paper"
         },
         {
          "font": {
           "size": 16
          },
          "showarrow": false,
          "text": "MSE",
          "x": 0.9606756756756757,
          "xanchor": "center",
          "xref": "paper",
          "y": 1,
          "yanchor": "bottom",
          "yref": "paper"
         }
        ],
        "font": {
         "size": 15
        },
        "height": 520,
        "legend": {
         "font": {
          "size": 12
         },
         "orientation": "h",
         "x": 0.5,
         "xanchor": "center",
         "y": 1.05,
         "yanchor": "bottom"
        },
        "margin": {
         "b": 0,
         "l": 0,
         "r": 0,
         "t": 0
        },
        "scattergap": 0.7,
        "scattermode": "group",
        "template": {
         "data": {
          "bar": [
           {
            "error_x": {
             "color": "#2a3f5f"
            },
            "error_y": {
             "color": "#2a3f5f"
            },
            "marker": {
             "line": {
              "color": "#E5ECF6",
              "width": 0.5
             },
             "pattern": {
              "fillmode": "overlay",
              "size": 10,
              "solidity": 0.2
             }
            },
            "type": "bar"
           }
          ],
          "barpolar": [
           {
            "marker": {
             "line": {
              "color": "#E5ECF6",
              "width": 0.5
             },
             "pattern": {
              "fillmode": "overlay",
              "size": 10,
              "solidity": 0.2
             }
            },
            "type": "barpolar"
           }
          ],
          "carpet": [
           {
            "aaxis": {
             "endlinecolor": "#2a3f5f",
             "gridcolor": "white",
             "linecolor": "white",
             "minorgridcolor": "white",
             "startlinecolor": "#2a3f5f"
            },
            "baxis": {
             "endlinecolor": "#2a3f5f",
             "gridcolor": "white",
             "linecolor": "white",
             "minorgridcolor": "white",
             "startlinecolor": "#2a3f5f"
            },
            "type": "carpet"
           }
          ],
          "choropleth": [
           {
            "colorbar": {
             "outlinewidth": 0,
             "ticks": ""
            },
            "type": "choropleth"
           }
          ],
          "contour": [
           {
            "colorbar": {
             "outlinewidth": 0,
             "ticks": ""
            },
            "colorscale": [
             [
              0,
              "#0d0887"
             ],
             [
              0.1111111111111111,
              "#46039f"
             ],
             [
              0.2222222222222222,
              "#7201a8"
             ],
             [
              0.3333333333333333,
              "#9c179e"
             ],
             [
              0.4444444444444444,
              "#bd3786"
             ],
             [
              0.5555555555555556,
              "#d8576b"
             ],
             [
              0.6666666666666666,
              "#ed7953"
             ],
             [
              0.7777777777777778,
              "#fb9f3a"
             ],
             [
              0.8888888888888888,
              "#fdca26"
             ],
             [
              1,
              "#f0f921"
             ]
            ],
            "type": "contour"
           }
          ],
          "contourcarpet": [
           {
            "colorbar": {
             "outlinewidth": 0,
             "ticks": ""
            },
            "type": "contourcarpet"
           }
          ],
          "heatmap": [
           {
            "colorbar": {
             "outlinewidth": 0,
             "ticks": ""
            },
            "colorscale": [
             [
              0,
              "#0d0887"
             ],
             [
              0.1111111111111111,
              "#46039f"
             ],
             [
              0.2222222222222222,
              "#7201a8"
             ],
             [
              0.3333333333333333,
              "#9c179e"
             ],
             [
              0.4444444444444444,
              "#bd3786"
             ],
             [
              0.5555555555555556,
              "#d8576b"
             ],
             [
              0.6666666666666666,
              "#ed7953"
             ],
             [
              0.7777777777777778,
              "#fb9f3a"
             ],
             [
              0.8888888888888888,
              "#fdca26"
             ],
             [
              1,
              "#f0f921"
             ]
            ],
            "type": "heatmap"
           }
          ],
          "heatmapgl": [
           {
            "colorbar": {
             "outlinewidth": 0,
             "ticks": ""
            },
            "colorscale": [
             [
              0,
              "#0d0887"
             ],
             [
              0.1111111111111111,
              "#46039f"
             ],
             [
              0.2222222222222222,
              "#7201a8"
             ],
             [
              0.3333333333333333,
              "#9c179e"
             ],
             [
              0.4444444444444444,
              "#bd3786"
             ],
             [
              0.5555555555555556,
              "#d8576b"
             ],
             [
              0.6666666666666666,
              "#ed7953"
             ],
             [
              0.7777777777777778,
              "#fb9f3a"
             ],
             [
              0.8888888888888888,
              "#fdca26"
             ],
             [
              1,
              "#f0f921"
             ]
            ],
            "type": "heatmapgl"
           }
          ],
          "histogram": [
           {
            "marker": {
             "pattern": {
              "fillmode": "overlay",
              "size": 10,
              "solidity": 0.2
             }
            },
            "type": "histogram"
           }
          ],
          "histogram2d": [
           {
            "colorbar": {
             "outlinewidth": 0,
             "ticks": ""
            },
            "colorscale": [
             [
              0,
              "#0d0887"
             ],
             [
              0.1111111111111111,
              "#46039f"
             ],
             [
              0.2222222222222222,
              "#7201a8"
             ],
             [
              0.3333333333333333,
              "#9c179e"
             ],
             [
              0.4444444444444444,
              "#bd3786"
             ],
             [
              0.5555555555555556,
              "#d8576b"
             ],
             [
              0.6666666666666666,
              "#ed7953"
             ],
             [
              0.7777777777777778,
              "#fb9f3a"
             ],
             [
              0.8888888888888888,
              "#fdca26"
             ],
             [
              1,
              "#f0f921"
             ]
            ],
            "type": "histogram2d"
           }
          ],
          "histogram2dcontour": [
           {
            "colorbar": {
             "outlinewidth": 0,
             "ticks": ""
            },
            "colorscale": [
             [
              0,
              "#0d0887"
             ],
             [
              0.1111111111111111,
              "#46039f"
             ],
             [
              0.2222222222222222,
              "#7201a8"
             ],
             [
              0.3333333333333333,
              "#9c179e"
             ],
             [
              0.4444444444444444,
              "#bd3786"
             ],
             [
              0.5555555555555556,
              "#d8576b"
             ],
             [
              0.6666666666666666,
              "#ed7953"
             ],
             [
              0.7777777777777778,
              "#fb9f3a"
             ],
             [
              0.8888888888888888,
              "#fdca26"
             ],
             [
              1,
              "#f0f921"
             ]
            ],
            "type": "histogram2dcontour"
           }
          ],
          "mesh3d": [
           {
            "colorbar": {
             "outlinewidth": 0,
             "ticks": ""
            },
            "type": "mesh3d"
           }
          ],
          "parcoords": [
           {
            "line": {
             "colorbar": {
              "outlinewidth": 0,
              "ticks": ""
             }
            },
            "type": "parcoords"
           }
          ],
          "pie": [
           {
            "automargin": true,
            "type": "pie"
           }
          ],
          "scatter": [
           {
            "fillpattern": {
             "fillmode": "overlay",
             "size": 10,
             "solidity": 0.2
            },
            "type": "scatter"
           }
          ],
          "scatter3d": [
           {
            "line": {
             "colorbar": {
              "outlinewidth": 0,
              "ticks": ""
             }
            },
            "marker": {
             "colorbar": {
              "outlinewidth": 0,
              "ticks": ""
             }
            },
            "type": "scatter3d"
           }
          ],
          "scattercarpet": [
           {
            "marker": {
             "colorbar": {
              "outlinewidth": 0,
              "ticks": ""
             }
            },
            "type": "scattercarpet"
           }
          ],
          "scattergeo": [
           {
            "marker": {
             "colorbar": {
              "outlinewidth": 0,
              "ticks": ""
             }
            },
            "type": "scattergeo"
           }
          ],
          "scattergl": [
           {
            "marker": {
             "colorbar": {
              "outlinewidth": 0,
              "ticks": ""
             }
            },
            "type": "scattergl"
           }
          ],
          "scattermapbox": [
           {
            "marker": {
             "colorbar": {
              "outlinewidth": 0,
              "ticks": ""
             }
            },
            "type": "scattermapbox"
           }
          ],
          "scatterpolar": [
           {
            "marker": {
             "colorbar": {
              "outlinewidth": 0,
              "ticks": ""
             }
            },
            "type": "scatterpolar"
           }
          ],
          "scatterpolargl": [
           {
            "marker": {
             "colorbar": {
              "outlinewidth": 0,
              "ticks": ""
             }
            },
            "type": "scatterpolargl"
           }
          ],
          "scatterternary": [
           {
            "marker": {
             "colorbar": {
              "outlinewidth": 0,
              "ticks": ""
             }
            },
            "type": "scatterternary"
           }
          ],
          "surface": [
           {
            "colorbar": {
             "outlinewidth": 0,
             "ticks": ""
            },
            "colorscale": [
             [
              0,
              "#0d0887"
             ],
             [
              0.1111111111111111,
              "#46039f"
             ],
             [
              0.2222222222222222,
              "#7201a8"
             ],
             [
              0.3333333333333333,
              "#9c179e"
             ],
             [
              0.4444444444444444,
              "#bd3786"
             ],
             [
              0.5555555555555556,
              "#d8576b"
             ],
             [
              0.6666666666666666,
              "#ed7953"
             ],
             [
              0.7777777777777778,
              "#fb9f3a"
             ],
             [
              0.8888888888888888,
              "#fdca26"
             ],
             [
              1,
              "#f0f921"
             ]
            ],
            "type": "surface"
           }
          ],
          "table": [
           {
            "cells": {
             "fill": {
              "color": "#EBF0F8"
             },
             "line": {
              "color": "white"
             }
            },
            "header": {
             "fill": {
              "color": "#C8D4E3"
             },
             "line": {
              "color": "white"
             }
            },
            "type": "table"
           }
          ]
         },
         "layout": {
          "annotationdefaults": {
           "arrowcolor": "#2a3f5f",
           "arrowhead": 0,
           "arrowwidth": 1
          },
          "autotypenumbers": "strict",
          "coloraxis": {
           "colorbar": {
            "outlinewidth": 0,
            "ticks": ""
           }
          },
          "colorscale": {
           "diverging": [
            [
             0,
             "#8e0152"
            ],
            [
             0.1,
             "#c51b7d"
            ],
            [
             0.2,
             "#de77ae"
            ],
            [
             0.3,
             "#f1b6da"
            ],
            [
             0.4,
             "#fde0ef"
            ],
            [
             0.5,
             "#f7f7f7"
            ],
            [
             0.6,
             "#e6f5d0"
            ],
            [
             0.7,
             "#b8e186"
            ],
            [
             0.8,
             "#7fbc41"
            ],
            [
             0.9,
             "#4d9221"
            ],
            [
             1,
             "#276419"
            ]
           ],
           "sequential": [
            [
             0,
             "#0d0887"
            ],
            [
             0.1111111111111111,
             "#46039f"
            ],
            [
             0.2222222222222222,
             "#7201a8"
            ],
            [
             0.3333333333333333,
             "#9c179e"
            ],
            [
             0.4444444444444444,
             "#bd3786"
            ],
            [
             0.5555555555555556,
             "#d8576b"
            ],
            [
             0.6666666666666666,
             "#ed7953"
            ],
            [
             0.7777777777777778,
             "#fb9f3a"
            ],
            [
             0.8888888888888888,
             "#fdca26"
            ],
            [
             1,
             "#f0f921"
            ]
           ],
           "sequentialminus": [
            [
             0,
             "#0d0887"
            ],
            [
             0.1111111111111111,
             "#46039f"
            ],
            [
             0.2222222222222222,
             "#7201a8"
            ],
            [
             0.3333333333333333,
             "#9c179e"
            ],
            [
             0.4444444444444444,
             "#bd3786"
            ],
            [
             0.5555555555555556,
             "#d8576b"
            ],
            [
             0.6666666666666666,
             "#ed7953"
            ],
            [
             0.7777777777777778,
             "#fb9f3a"
            ],
            [
             0.8888888888888888,
             "#fdca26"
            ],
            [
             1,
             "#f0f921"
            ]
           ]
          },
          "colorway": [
           "#636efa",
           "#EF553B",
           "#00cc96",
           "#ab63fa",
           "#FFA15A",
           "#19d3f3",
           "#FF6692",
           "#B6E880",
           "#FF97FF",
           "#FECB52"
          ],
          "font": {
           "color": "#2a3f5f"
          },
          "geo": {
           "bgcolor": "white",
           "lakecolor": "white",
           "landcolor": "#E5ECF6",
           "showlakes": true,
           "showland": true,
           "subunitcolor": "white"
          },
          "hoverlabel": {
           "align": "left"
          },
          "hovermode": "closest",
          "mapbox": {
           "style": "light"
          },
          "paper_bgcolor": "white",
          "plot_bgcolor": "#E5ECF6",
          "polar": {
           "angularaxis": {
            "gridcolor": "white",
            "linecolor": "white",
            "ticks": ""
           },
           "bgcolor": "#E5ECF6",
           "radialaxis": {
            "gridcolor": "white",
            "linecolor": "white",
            "ticks": ""
           }
          },
          "scene": {
           "xaxis": {
            "backgroundcolor": "#E5ECF6",
            "gridcolor": "white",
            "gridwidth": 2,
            "linecolor": "white",
            "showbackground": true,
            "ticks": "",
            "zerolinecolor": "white"
           },
           "yaxis": {
            "backgroundcolor": "#E5ECF6",
            "gridcolor": "white",
            "gridwidth": 2,
            "linecolor": "white",
            "showbackground": true,
            "ticks": "",
            "zerolinecolor": "white"
           },
           "zaxis": {
            "backgroundcolor": "#E5ECF6",
            "gridcolor": "white",
            "gridwidth": 2,
            "linecolor": "white",
            "showbackground": true,
            "ticks": "",
            "zerolinecolor": "white"
           }
          },
          "shapedefaults": {
           "line": {
            "color": "#2a3f5f"
           }
          },
          "ternary": {
           "aaxis": {
            "gridcolor": "white",
            "linecolor": "white",
            "ticks": ""
           },
           "baxis": {
            "gridcolor": "white",
            "linecolor": "white",
            "ticks": ""
           },
           "bgcolor": "#E5ECF6",
           "caxis": {
            "gridcolor": "white",
            "linecolor": "white",
            "ticks": ""
           }
          },
          "title": {
           "x": 0.05
          },
          "xaxis": {
           "automargin": true,
           "gridcolor": "white",
           "linecolor": "white",
           "ticks": "",
           "title": {
            "standoff": 15
           },
           "zerolinecolor": "white",
           "zerolinewidth": 2
          },
          "yaxis": {
           "automargin": true,
           "gridcolor": "white",
           "linecolor": "white",
           "ticks": "",
           "title": {
            "standoff": 15
           },
           "zerolinecolor": "white",
           "zerolinewidth": 2
          }
         }
        },
        "title": {},
        "width": 1300,
        "xaxis": {
         "anchor": "y",
         "autorange": true,
         "domain": [
          0,
          0.05243243243243244
         ],
         "range": [
          -0.5,
          0.5
         ],
         "tickangle": 15,
         "type": "category"
        },
        "xaxis2": {
         "anchor": "y2",
         "autorange": true,
         "domain": [
          0.058432432432432437,
          0.47789189189189196
         ],
         "range": [
          -0.5,
          7.5
         ],
         "tickangle": 15,
         "type": "category"
        },
        "xaxis3": {
         "anchor": "y3",
         "autorange": true,
         "domain": [
          0.48389189189189197,
          0.5625405405405406
         ],
         "range": [
          -0.5,
          1.5
         ],
         "tickangle": 15,
         "type": "category"
        },
        "xaxis4": {
         "anchor": "y4",
         "autorange": true,
         "domain": [
          0.5685405405405406,
          0.6471891891891892
         ],
         "range": [
          -0.5,
          1.5
         ],
         "tickangle": 15,
         "type": "category"
        },
        "xaxis5": {
         "anchor": "y5",
         "autorange": true,
         "domain": [
          0.6531891891891892,
          0.9153513513513514
         ],
         "range": [
          -0.5,
          4.5
         ],
         "tickangle": 15,
         "type": "category"
        },
        "xaxis6": {
         "anchor": "y6",
         "autorange": true,
         "domain": [
          0.9213513513513514,
          1
         ],
         "range": [
          -0.5,
          1.5
         ],
         "tickangle": 15,
         "type": "category"
        },
        "yaxis": {
         "anchor": "x",
         "autorange": true,
         "domain": [
          0,
          1
         ],
         "dtick": 20,
         "range": [
          0,
          105.26315789473685
         ],
         "tick0": 20,
         "type": "linear"
        },
        "yaxis2": {
         "anchor": "x2",
         "autorange": true,
         "domain": [
          0,
          1
         ],
         "dtick": 20,
         "matches": "y",
         "range": [
          0,
          105.26315789473685
         ],
         "showticklabels": false,
         "tick0": 20,
         "type": "linear"
        },
        "yaxis3": {
         "anchor": "x3",
         "autorange": true,
         "domain": [
          0,
          1
         ],
         "dtick": 20,
         "matches": "y",
         "range": [
          0,
          105.26315789473685
         ],
         "showticklabels": false,
         "tick0": 20,
         "type": "linear"
        },
        "yaxis4": {
         "anchor": "x4",
         "autorange": true,
         "domain": [
          0,
          1
         ],
         "dtick": 20,
         "matches": "y",
         "range": [
          0,
          105.26315789473685
         ],
         "showticklabels": false,
         "tick0": 20,
         "type": "linear"
        },
        "yaxis5": {
         "anchor": "x5",
         "autorange": true,
         "domain": [
          0,
          1
         ],
         "dtick": 20,
         "matches": "y",
         "range": [
          0,
          105.26315789473685
         ],
         "showticklabels": false,
         "tick0": 20,
         "type": "linear"
        },
        "yaxis6": {
         "anchor": "x6",
         "autorange": true,
         "domain": [
          0,
          1
         ],
         "dtick": 20,
         "matches": "y",
         "range": [
          0,
          105.26315789473685
         ],
         "showticklabels": false,
         "tick0": 20,
         "type": "linear"
        }
       }
      },
      "image/png": "[encoded data removed]",
      "text/html": [
       "<div>                            <div id=\"7a34de88-97c0-4cb9-90d3-4064bd1165e4\" class=\"plotly-graph-div\" style=\"height:520px; width:1300px;\"></div>            <script type=\"text/javascript\">                require([\"plotly\"], function(Plotly) {                    window.PLOTLYENV=window.PLOTLYENV || {};                                    if (document.getElementById(\"7a34de88-97c0-4cb9-90d3-4064bd1165e4\")) {                    Plotly.newPlot(                        \"7a34de88-97c0-4cb9-90d3-4064bd1165e4\",                        [{\"line\":{\"color\":\"green\"},\"marker\":{\"size\":12,\"symbol\":\"square-open\"},\"mode\":\"markers\",\"name\":\"Ada (C)\",\"showlegend\":true,\"x\":[\"Mouse-Human\"],\"y\":[95.71240105540898],\"type\":\"scatter\",\"xaxis\":\"x\",\"yaxis\":\"y\"},{\"line\":{\"color\":\"green\"},\"marker\":{\"size\":12,\"symbol\":\"circle-open\"},\"mode\":\"markers\",\"name\":\"BERT (C)\",\"showlegend\":true,\"x\":[\"Mouse-Human\"],\"y\":[92.74406332453826],\"type\":\"scatter\",\"xaxis\":\"x\",\"yaxis\":\"y\"},{\"line\":{\"color\":\"green\"},\"marker\":{\"size\":12,\"symbol\":\"diamond-open\"},\"mode\":\"markers\",\"name\":\"SPECTER2 (C)\",\"showlegend\":true,\"x\":[\"Mouse-Human\"],\"y\":[89.31398416886543],\"type\":\"scatter\",\"xaxis\":\"x\",\"yaxis\":\"y\"},{\"line\":{\"color\":\"green\"},\"marker\":{\"size\":12,\"symbol\":\"star-open\"},\"mode\":\"markers\",\"name\":\"TFIDF (C)\",\"showlegend\":true,\"x\":[\"Mouse-Human\"],\"y\":[84.5646437994723],\"type\":\"scatter\",\"xaxis\":\"x\",\"yaxis\":\"y\"},{\"line\":{\"color\":\"green\"},\"marker\":{\"size\":12,\"symbol\":\"square-open\"},\"mode\":\"markers\",\"name\":\"Ada (C)\",\"showlegend\":false,\"x\":[\"ENVO-SWEET\",\"FISH-ZOOPLANKTON\",\"ALGAE-ZOOBENTHOS\",\"Bacteria\",\"Chromista\",\"Fungi\",\"Plantae\",\"Protozoa\"],\"y\":[78.88198757763976,100.0,94.44444444444444,100.0,100.0,100.0,99.9899568143015,100.0],\"type\":\"scatter\",\"xaxis\":\"x2\",\"yaxis\":\"y2\"},{\"line\":{\"color\":\"green\"},\"marker\":{\"size\":12,\"symbol\":\"circle-open\"},\"mode\":\"markers\",\"name\":\"BERT (C)\",\"showlegend\":false,\"x\":[\"ENVO-SWEET\",\"FISH-ZOOPLANKTON\",\"ALGAE-ZOOBENTHOS\",\"Bacteria\",\"Chromista\",\"Fungi\",\"Plantae\",\"Protozoa\"],\"y\":[76.0248447204969,93.33333333333331,83.33333333333334,100.0,100.0,100.0,99.959827257206,100.0],\"type\":\"scatter\",\"xaxis\":\"x2\",\"yaxis\":\"y2\"},{\"line\":{\"color\":\"green\"},\"marker\":{\"size\":12,\"symbol\":\"diamond-open\"},\"mode\":\"markers\",\"name\":\"SPECTER2 (C)\",\"showlegend\":false,\"x\":[\"ENVO-SWEET\",\"FISH-ZOOPLANKTON\",\"ALGAE-ZOOBENTHOS\",\"Bacteria\",\"Chromista\",\"Fungi\",\"Plantae\",\"Protozoa\"],\"y\":[69.68944099378882,100.0,77.77777777777779,100.0,99.7864768683274,99.99015941743752,99.90961132871348,100.0],\"type\":\"scatter\",\"xaxis\":\"x2\",\"yaxis\":\"y2\"},{\"line\":{\"color\":\"green\"},\"marker\":{\"size\":12,\"symbol\":\"star-open\"},\"mode\":\"markers\",\"name\":\"TFIDF (C)\",\"showlegend\":false,\"x\":[\"ENVO-SWEET\",\"FISH-ZOOPLANKTON\",\"ALGAE-ZOOBENTHOS\",\"Bacteria\",\"Chromista\",\"Fungi\",\"Plantae\",\"Protozoa\"],\"y\":[51.925465838509325,86.66666666666667,72.22222222222221,100.0,99.288256227758,99.99015941743752,99.80415787887918,100.0],\"type\":\"scatter\",\"xaxis\":\"x2\",\"yaxis\":\"y2\"},{\"line\":{\"color\":\"green\"},\"marker\":{\"size\":12,\"symbol\":\"square-open\"},\"mode\":\"markers\",\"name\":\"Ada (C)\",\"showlegend\":false,\"x\":[\"HP-MP\",\"DOID-ORDO\"],\"y\":[99.71264367816092,100.0],\"type\":\"scatter\",\"xaxis\":\"x3\",\"yaxis\":\"y3\"},{\"line\":{\"color\":\"green\"},\"marker\":{\"size\":12,\"symbol\":\"circle-open\"},\"mode\":\"markers\",\"name\":\"BERT (C)\",\"showlegend\":false,\"x\":[\"HP-MP\",\"DOID-ORDO\"],\"y\":[99.71264367816092,100.0],\"type\":\"scatter\",\"xaxis\":\"x3\",\"yaxis\":\"y3\"},{\"line\":{\"color\":\"green\"},\"marker\":{\"size\":12,\"symbol\":\"diamond-open\"},\"mode\":\"markers\",\"name\":\"SPECTER2 (C)\",\"showlegend\":false,\"x\":[\"HP-MP\",\"DOID-ORDO\"],\"y\":[99.85632183908046,99.91915925626516],\"type\":\"scatter\",\"xaxis\":\"x3\",\"yaxis\":\"y3\"},{\"line\":{\"color\":\"green\"},\"marker\":{\"size\":12,\"symbol\":\"star-open\"},\"mode\":\"markers\",\"name\":\"TFIDF (C)\",\"showlegend\":false,\"x\":[\"HP-MP\",\"DOID-ORDO\"],\"y\":[99.42528735632185,98.54486661277284],\"type\":\"scatter\",\"xaxis\":\"x3\",\"yaxis\":\"y3\"},{\"line\":{\"color\":\"green\"},\"marker\":{\"size\":12,\"symbol\":\"square-open\"},\"mode\":\"markers\",\"name\":\"Ada (C)\",\"showlegend\":false,\"x\":[\"Nell-DBpedia\",\"YAGO-Wikidata\"],\"y\":[98.44961240310076,98.35526315789474],\"type\":\"scatter\",\"xaxis\":\"x4\",\"yaxis\":\"y4\"},{\"line\":{\"color\":\"green\"},\"marker\":{\"size\":12,\"symbol\":\"circle-open\"},\"mode\":\"markers\",\"name\":\"BERT (C)\",\"showlegend\":false,\"x\":[\"Nell-DBpedia\",\"YAGO-Wikidata\"],\"y\":[98.44961240310076,97.36842105263158],\"type\":\"scatter\",\"xaxis\":\"x4\",\"yaxis\":\"y4\"},{\"line\":{\"color\":\"green\"},\"marker\":{\"size\":12,\"symbol\":\"diamond-open\"},\"mode\":\"markers\",\"name\":\"SPECTER2 (C)\",\"showlegend\":false,\"x\":[\"Nell-DBpedia\",\"YAGO-Wikidata\"],\"y\":[96.12403100775194,88.81578947368422],\"type\":\"scatter\",\"xaxis\":\"x4\",\"yaxis\":\"y4\"},{\"line\":{\"color\":\"green\"},\"marker\":{\"size\":12,\"symbol\":\"star-open\"},\"mode\":\"markers\",\"name\":\"TFIDF (C)\",\"showlegend\":false,\"x\":[\"Nell-DBpedia\",\"YAGO-Wikidata\"],\"y\":[78.29457364341084,40.131578947368425],\"type\":\"scatter\",\"xaxis\":\"x4\",\"yaxis\":\"y4\"},{\"line\":{\"color\":\"green\"},\"marker\":{\"size\":12,\"symbol\":\"square-open\"},\"mode\":\"markers\",\"name\":\"Ada (C)\",\"showlegend\":false,\"x\":[\"SNOMED-NCIT \",\"SNOMED-NCIT\",\"NCIT-DOID\",\"OMIM-ORDO\",\"SNOMED-FMA\"],\"y\":[82.6235541535226,95.31276925728072,91.91207853179684,72.82988443966676,80.54024255788313],\"type\":\"scatter\",\"xaxis\":\"x5\",\"yaxis\":\"y5\"},{\"line\":{\"color\":\"green\"},\"marker\":{\"size\":12,\"symbol\":\"circle-open\"},\"mode\":\"markers\",\"name\":\"BERT (C)\",\"showlegend\":false,\"x\":[\"SNOMED-NCIT \",\"SNOMED-NCIT\",\"NCIT-DOID\",\"OMIM-ORDO\",\"SNOMED-FMA\"],\"y\":[79.65299684542587,92.8657590901258,90.2475458813487,71.48615963450685,74.65545755237045],\"type\":\"scatter\",\"xaxis\":\"x5\",\"yaxis\":\"y5\"},{\"line\":{\"color\":\"green\"},\"marker\":{\"size\":12,\"symbol\":\"diamond-open\"},\"mode\":\"markers\",\"name\":\"SPECTER2 (C)\",\"showlegend\":false,\"x\":[\"SNOMED-NCIT \",\"SNOMED-NCIT\",\"NCIT-DOID\",\"OMIM-ORDO\",\"SNOMED-FMA\"],\"y\":[78.54889589905363,89.48819576081337,90.73836961160904,70.8949207202365,52.63230429988974],\"type\":\"scatter\",\"xaxis\":\"x5\",\"yaxis\":\"y5\"},{\"line\":{\"color\":\"green\"},\"marker\":{\"size\":12,\"symbol\":\"star-open\"},\"mode\":\"markers\",\"name\":\"TFIDF (C)\",\"showlegend\":false,\"x\":[\"SNOMED-NCIT \",\"SNOMED-NCIT\",\"NCIT-DOID\",\"OMIM-ORDO\",\"SNOMED-FMA\"],\"y\":[66.11461619348054,73.39307254868172,81.19931711481007,69.44369793066379,30.292171995589857],\"type\":\"scatter\",\"xaxis\":\"x5\",\"yaxis\":\"y5\"},{\"line\":{\"color\":\"green\"},\"marker\":{\"size\":12,\"symbol\":\"square-open\"},\"mode\":\"markers\",\"name\":\"Ada (C)\",\"showlegend\":false,\"x\":[\"MI-MatOnto\",\"MI-EMMO\"],\"y\":[33.77483443708609,95.23809523809524],\"type\":\"scatter\",\"xaxis\":\"x6\",\"yaxis\":\"y6\"},{\"line\":{\"color\":\"green\"},\"marker\":{\"size\":12,\"symbol\":\"circle-open\"},\"mode\":\"markers\",\"name\":\"BERT (C)\",\"showlegend\":false,\"x\":[\"MI-MatOnto\",\"MI-EMMO\"],\"y\":[49.00662251655629,100.0],\"type\":\"scatter\",\"xaxis\":\"x6\",\"yaxis\":\"y6\"},{\"line\":{\"color\":\"green\"},\"marker\":{\"size\":12,\"symbol\":\"diamond-open\"},\"mode\":\"markers\",\"name\":\"SPECTER2 (C)\",\"showlegend\":false,\"x\":[\"MI-MatOnto\",\"MI-EMMO\"],\"y\":[26.158940397350992,96.82539682539682],\"type\":\"scatter\",\"xaxis\":\"x6\",\"yaxis\":\"y6\"},{\"line\":{\"color\":\"green\"},\"marker\":{\"size\":12,\"symbol\":\"star-open\"},\"mode\":\"markers\",\"name\":\"TFIDF (C)\",\"showlegend\":false,\"x\":[\"MI-MatOnto\",\"MI-EMMO\"],\"y\":[22.18543046357616,87.3015873015873],\"type\":\"scatter\",\"xaxis\":\"x6\",\"yaxis\":\"y6\"},{\"line\":{\"color\":\"red\"},\"marker\":{\"size\":12,\"symbol\":\"circle-open\"},\"mode\":\"markers\",\"name\":\"BERT (CC)\",\"showlegend\":false,\"x\":[\"Mouse-Human\"],\"y\":[88.78627968337732],\"type\":\"scatter\",\"xaxis\":\"x\",\"yaxis\":\"y\"},{\"line\":{\"color\":\"red\"},\"marker\":{\"size\":12,\"symbol\":\"diamond-open\"},\"mode\":\"markers\",\"name\":\"SPECTER2 (CC)\",\"showlegend\":false,\"x\":[\"Mouse-Human\"],\"y\":[85.62005277044855],\"type\":\"scatter\",\"xaxis\":\"x\",\"yaxis\":\"y\"},{\"line\":{\"color\":\"red\"},\"marker\":{\"size\":12,\"symbol\":\"star-open\"},\"mode\":\"markers\",\"name\":\"TFIDF (CC)\",\"showlegend\":false,\"x\":[\"Mouse-Human\"],\"y\":[85.15831134564644],\"type\":\"scatter\",\"xaxis\":\"x\",\"yaxis\":\"y\"},{\"line\":{\"color\":\"red\"},\"marker\":{\"size\":12,\"symbol\":\"circle-open\"},\"mode\":\"markers\",\"name\":\"BERT (CC)\",\"showlegend\":true,\"x\":[\"ENVO-SWEET\",\"FISH-ZOOPLANKTON\",\"ALGAE-ZOOBENTHOS\",\"Bacteria\",\"Chromista\",\"Fungi\",\"Plantae\",\"Protozoa\"],\"y\":[59.62732919254658,100.0,88.88888888888889,100.0,100.0,100.0,99.959827257206,100.0],\"type\":\"scatter\",\"xaxis\":\"x2\",\"yaxis\":\"y2\"},{\"line\":{\"color\":\"red\"},\"marker\":{\"size\":12,\"symbol\":\"diamond-open\"},\"mode\":\"markers\",\"name\":\"SPECTER2 (CC)\",\"showlegend\":true,\"x\":[\"ENVO-SWEET\",\"FISH-ZOOPLANKTON\",\"ALGAE-ZOOBENTHOS\",\"Bacteria\",\"Chromista\",\"Fungi\",\"Plantae\",\"Protozoa\"],\"y\":[52.79503105590062,80.0,72.22222222222221,100.0,99.8576512455516,99.99015941743752,99.88952495731644,100.0],\"type\":\"scatter\",\"xaxis\":\"x2\",\"yaxis\":\"y2\"},{\"line\":{\"color\":\"red\"},\"marker\":{\"size\":12,\"symbol\":\"star-open\"},\"mode\":\"markers\",\"name\":\"TFIDF (CC)\",\"showlegend\":true,\"x\":[\"ENVO-SWEET\",\"FISH-ZOOPLANKTON\",\"ALGAE-ZOOBENTHOS\",\"Bacteria\",\"Chromista\",\"Fungi\",\"Plantae\",\"Protozoa\"],\"y\":[53.54037267080746,80.0,72.22222222222221,100.0,99.14590747330962,99.99015941743752,99.79913628602992,100.0],\"type\":\"scatter\",\"xaxis\":\"x2\",\"yaxis\":\"y2\"},{\"line\":{\"color\":\"red\"},\"marker\":{\"size\":12,\"symbol\":\"circle-open\"},\"mode\":\"markers\",\"name\":\"BERT (CC)\",\"showlegend\":false,\"x\":[\"HP-MP\",\"DOID-ORDO\"],\"y\":[86.49425287356321,90.13742926434924],\"type\":\"scatter\",\"xaxis\":\"x3\",\"yaxis\":\"y3\"},{\"line\":{\"color\":\"red\"},\"marker\":{\"size\":12,\"symbol\":\"diamond-open\"},\"mode\":\"markers\",\"name\":\"SPECTER2 (CC)\",\"showlegend\":false,\"x\":[\"HP-MP\",\"DOID-ORDO\"],\"y\":[91.66666666666666,95.55375909458368],\"type\":\"scatter\",\"xaxis\":\"x3\",\"yaxis\":\"y3\"},{\"line\":{\"color\":\"red\"},\"marker\":{\"size\":12,\"symbol\":\"star-open\"},\"mode\":\"markers\",\"name\":\"TFIDF (CC)\",\"showlegend\":false,\"x\":[\"HP-MP\",\"DOID-ORDO\"],\"y\":[96.98275862068964,97.17057396928053],\"type\":\"scatter\",\"xaxis\":\"x3\",\"yaxis\":\"y3\"},{\"line\":{\"color\":\"red\"},\"marker\":{\"size\":12,\"symbol\":\"circle-open\"},\"mode\":\"markers\",\"name\":\"BERT (CC)\",\"showlegend\":false,\"x\":[\"Nell-DBpedia\",\"YAGO-Wikidata\"],\"y\":[98.44961240310076,97.36842105263158],\"type\":\"scatter\",\"xaxis\":\"x4\",\"yaxis\":\"y4\"},{\"line\":{\"color\":\"red\"},\"marker\":{\"size\":12,\"symbol\":\"diamond-open\"},\"mode\":\"markers\",\"name\":\"SPECTER2 (CC)\",\"showlegend\":false,\"x\":[\"Nell-DBpedia\",\"YAGO-Wikidata\"],\"y\":[96.12403100775194,88.81578947368422],\"type\":\"scatter\",\"xaxis\":\"x4\",\"yaxis\":\"y4\"},{\"line\":{\"color\":\"red\"},\"marker\":{\"size\":12,\"symbol\":\"star-open\"},\"mode\":\"markers\",\"name\":\"TFIDF (CC)\",\"showlegend\":false,\"x\":[\"Nell-DBpedia\",\"YAGO-Wikidata\"],\"y\":[78.29457364341084,40.131578947368425],\"type\":\"scatter\",\"xaxis\":\"x4\",\"yaxis\":\"y4\"},{\"line\":{\"color\":\"red\"},\"marker\":{\"size\":12,\"symbol\":\"circle-open\"},\"mode\":\"markers\",\"name\":\"BERT (CC)\",\"showlegend\":false,\"x\":[\"SNOMED-NCIT \",\"SNOMED-NCIT\",\"NCIT-DOID\",\"OMIM-ORDO\",\"SNOMED-FMA\"],\"y\":[75.3154574132492,90.7461657763226,78.57447716602645,67.21311475409836,47.229878721058434],\"type\":\"scatter\",\"xaxis\":\"x5\",\"yaxis\":\"y5\"},{\"line\":{\"color\":\"red\"},\"marker\":{\"size\":12,\"symbol\":\"diamond-open\"},\"mode\":\"markers\",\"name\":\"SPECTER2 (CC)\",\"showlegend\":false,\"x\":[\"SNOMED-NCIT \",\"SNOMED-NCIT\",\"NCIT-DOID\",\"OMIM-ORDO\",\"SNOMED-FMA\"],\"y\":[75.86750788643532,86.14509736343271,80.85787451984635,69.33619994625101,37.48621830209482],\"type\":\"scatter\",\"xaxis\":\"x5\",\"yaxis\":\"y5\"},{\"line\":{\"color\":\"red\"},\"marker\":{\"size\":12,\"symbol\":\"star-open\"},\"mode\":\"markers\",\"name\":\"TFIDF (CC)\",\"showlegend\":false,\"x\":[\"SNOMED-NCIT \",\"SNOMED-NCIT\",\"NCIT-DOID\",\"OMIM-ORDO\",\"SNOMED-FMA\"],\"y\":[65.90431125131441,85.57642598655868,81.09261630388391,69.4974469228702,38.00992282249173],\"type\":\"scatter\",\"xaxis\":\"x5\",\"yaxis\":\"y5\"},{\"line\":{\"color\":\"red\"},\"marker\":{\"size\":12,\"symbol\":\"circle-open\"},\"mode\":\"markers\",\"name\":\"BERT (CC)\",\"showlegend\":false,\"x\":[\"MI-MatOnto\",\"MI-EMMO\"],\"y\":[47.35099337748344,68.25396825396825],\"type\":\"scatter\",\"xaxis\":\"x6\",\"yaxis\":\"y6\"},{\"line\":{\"color\":\"red\"},\"marker\":{\"size\":12,\"symbol\":\"diamond-open\"},\"mode\":\"markers\",\"name\":\"SPECTER2 (CC)\",\"showlegend\":false,\"x\":[\"MI-MatOnto\",\"MI-EMMO\"],\"y\":[22.18543046357616,57.14285714285714],\"type\":\"scatter\",\"xaxis\":\"x6\",\"yaxis\":\"y6\"},{\"line\":{\"color\":\"red\"},\"marker\":{\"size\":12,\"symbol\":\"star-open\"},\"mode\":\"markers\",\"name\":\"TFIDF (CC)\",\"showlegend\":false,\"x\":[\"MI-MatOnto\",\"MI-EMMO\"],\"y\":[22.18543046357616,63.49206349206349],\"type\":\"scatter\",\"xaxis\":\"x6\",\"yaxis\":\"y6\"},{\"line\":{\"color\":\"blue\"},\"marker\":{\"size\":12,\"symbol\":\"circle-open\"},\"mode\":\"markers\",\"name\":\"BERT (CP)\",\"showlegend\":false,\"x\":[\"Mouse-Human\"],\"y\":[90.36939313984168],\"type\":\"scatter\",\"xaxis\":\"x\",\"yaxis\":\"y\"},{\"line\":{\"color\":\"blue\"},\"marker\":{\"size\":12,\"symbol\":\"diamond-open\"},\"mode\":\"markers\",\"name\":\"SPECTER2 (CP)\",\"showlegend\":false,\"x\":[\"Mouse-Human\"],\"y\":[87.20316622691293],\"type\":\"scatter\",\"xaxis\":\"x\",\"yaxis\":\"y\"},{\"line\":{\"color\":\"blue\"},\"marker\":{\"size\":12,\"symbol\":\"star-open\"},\"mode\":\"markers\",\"name\":\"TFIDF (CP)\",\"showlegend\":false,\"x\":[\"Mouse-Human\"],\"y\":[83.7071240105541],\"type\":\"scatter\",\"xaxis\":\"x\",\"yaxis\":\"y\"},{\"line\":{\"color\":\"blue\"},\"marker\":{\"size\":12,\"symbol\":\"circle-open\"},\"mode\":\"markers\",\"name\":\"BERT (CP)\",\"showlegend\":true,\"x\":[\"ENVO-SWEET\",\"FISH-ZOOPLANKTON\",\"ALGAE-ZOOBENTHOS\",\"Bacteria\",\"Chromista\",\"Fungi\",\"Plantae\",\"Protozoa\"],\"y\":[60.86956521739131,93.33333333333331,83.33333333333334,100.0,99.7153024911032,99.88191300925014,99.82424425027618,100.0],\"type\":\"scatter\",\"xaxis\":\"x2\",\"yaxis\":\"y2\"},{\"line\":{\"color\":\"blue\"},\"marker\":{\"size\":12,\"symbol\":\"diamond-open\"},\"mode\":\"markers\",\"name\":\"SPECTER2 (CP)\",\"showlegend\":true,\"x\":[\"ENVO-SWEET\",\"FISH-ZOOPLANKTON\",\"ALGAE-ZOOBENTHOS\",\"Bacteria\",\"Chromista\",\"Fungi\",\"Plantae\",\"Protozoa\"],\"y\":[54.03726708074535,80.0,83.33333333333334,100.0,99.3594306049822,99.48828970675063,99.09611328713468,100.0],\"type\":\"scatter\",\"xaxis\":\"x2\",\"yaxis\":\"y2\"},{\"line\":{\"color\":\"blue\"},\"marker\":{\"size\":12,\"symbol\":\"star-open\"},\"mode\":\"markers\",\"name\":\"TFIDF (CP)\",\"showlegend\":true,\"x\":[\"ENVO-SWEET\",\"FISH-ZOOPLANKTON\",\"ALGAE-ZOOBENTHOS\",\"Bacteria\",\"Chromista\",\"Fungi\",\"Plantae\",\"Protozoa\"],\"y\":[53.7888198757764,73.33333333333333,66.66666666666666,100.0,99.5729537366548,99.97047825231252,99.82926584312544,100.0],\"type\":\"scatter\",\"xaxis\":\"x2\",\"yaxis\":\"y2\"},{\"line\":{\"color\":\"blue\"},\"marker\":{\"size\":12,\"symbol\":\"circle-open\"},\"mode\":\"markers\",\"name\":\"BERT (CP)\",\"showlegend\":false,\"x\":[\"HP-MP\",\"DOID-ORDO\"],\"y\":[93.2471264367816,93.61358124494744],\"type\":\"scatter\",\"xaxis\":\"x3\",\"yaxis\":\"y3\"},{\"line\":{\"color\":\"blue\"},\"marker\":{\"size\":12,\"symbol\":\"diamond-open\"},\"mode\":\"markers\",\"name\":\"SPECTER2 (CP)\",\"showlegend\":false,\"x\":[\"HP-MP\",\"DOID-ORDO\"],\"y\":[95.25862068965516,91.83508488278092],\"type\":\"scatter\",\"xaxis\":\"x3\",\"yaxis\":\"y3\"},{\"line\":{\"color\":\"blue\"},\"marker\":{\"size\":12,\"symbol\":\"star-open\"},\"mode\":\"markers\",\"name\":\"TFIDF (CP)\",\"showlegend\":false,\"x\":[\"HP-MP\",\"DOID-ORDO\"],\"y\":[91.95402298850574,92.5626515763945],\"type\":\"scatter\",\"xaxis\":\"x3\",\"yaxis\":\"y3\"},{\"line\":{\"color\":\"blue\"},\"marker\":{\"size\":12,\"symbol\":\"circle-open\"},\"mode\":\"markers\",\"name\":\"BERT (CP)\",\"showlegend\":false,\"x\":[\"Nell-DBpedia\",\"YAGO-Wikidata\"],\"y\":[98.44961240310076,97.36842105263158],\"type\":\"scatter\",\"xaxis\":\"x4\",\"yaxis\":\"y4\"},{\"line\":{\"color\":\"blue\"},\"marker\":{\"size\":12,\"symbol\":\"diamond-open\"},\"mode\":\"markers\",\"name\":\"SPECTER2 (CP)\",\"showlegend\":false,\"x\":[\"Nell-DBpedia\",\"YAGO-Wikidata\"],\"y\":[96.12403100775194,88.81578947368422],\"type\":\"scatter\",\"xaxis\":\"x4\",\"yaxis\":\"y4\"},{\"line\":{\"color\":\"blue\"},\"marker\":{\"size\":12,\"symbol\":\"star-open\"},\"mode\":\"markers\",\"name\":\"TFIDF (CP)\",\"showlegend\":false,\"x\":[\"Nell-DBpedia\",\"YAGO-Wikidata\"],\"y\":[78.29457364341084,40.131578947368425],\"type\":\"scatter\",\"xaxis\":\"x4\",\"yaxis\":\"y4\"},{\"line\":{\"color\":\"blue\"},\"marker\":{\"size\":12,\"symbol\":\"circle-open\"},\"mode\":\"markers\",\"name\":\"BERT (CP)\",\"showlegend\":false,\"x\":[\"SNOMED-NCIT \",\"SNOMED-NCIT\",\"NCIT-DOID\",\"OMIM-ORDO\",\"SNOMED-FMA\"],\"y\":[74.36908517350159,76.66724108219887,85.80879214682031,70.43805428648213,63.45093715545755],\"type\":\"scatter\",\"xaxis\":\"x5\",\"yaxis\":\"y5\"},{\"line\":{\"color\":\"blue\"},\"marker\":{\"size\":12,\"symbol\":\"diamond-open\"},\"mode\":\"markers\",\"name\":\"SPECTER2 (CP)\",\"showlegend\":false,\"x\":[\"SNOMED-NCIT \",\"SNOMED-NCIT\",\"NCIT-DOID\",\"OMIM-ORDO\",\"SNOMED-FMA\"],\"y\":[74.1850683491062,72.9794933655006,87.58002560819462,68.42246707874227,47.69845644983462],\"type\":\"scatter\",\"xaxis\":\"x5\",\"yaxis\":\"y5\"},{\"line\":{\"color\":\"blue\"},\"marker\":{\"size\":12,\"symbol\":\"star-open\"},\"mode\":\"markers\",\"name\":\"TFIDF (CP)\",\"showlegend\":false,\"x\":[\"SNOMED-NCIT \",\"SNOMED-NCIT\",\"NCIT-DOID\",\"OMIM-ORDO\",\"SNOMED-FMA\"],\"y\":[65.4311251314406,56.90160261933482,79.66282543747333,69.12120397742542,24.738147739801544],\"type\":\"scatter\",\"xaxis\":\"x5\",\"yaxis\":\"y5\"},{\"line\":{\"color\":\"blue\"},\"marker\":{\"size\":12,\"symbol\":\"circle-open\"},\"mode\":\"markers\",\"name\":\"BERT (CP)\",\"showlegend\":false,\"x\":[\"MI-MatOnto\",\"MI-EMMO\"],\"y\":[47.682119205298015,53.96825396825397],\"type\":\"scatter\",\"xaxis\":\"x6\",\"yaxis\":\"y6\"},{\"line\":{\"color\":\"blue\"},\"marker\":{\"size\":12,\"symbol\":\"diamond-open\"},\"mode\":\"markers\",\"name\":\"SPECTER2 (CP)\",\"showlegend\":false,\"x\":[\"MI-MatOnto\",\"MI-EMMO\"],\"y\":[48.01324503311258,34.92063492063492],\"type\":\"scatter\",\"xaxis\":\"x6\",\"yaxis\":\"y6\"},{\"line\":{\"color\":\"blue\"},\"marker\":{\"size\":12,\"symbol\":\"star-open\"},\"mode\":\"markers\",\"name\":\"TFIDF (CP)\",\"showlegend\":false,\"x\":[\"MI-MatOnto\",\"MI-EMMO\"],\"y\":[23.178807947019862,41.26984126984127],\"type\":\"scatter\",\"xaxis\":\"x6\",\"yaxis\":\"y6\"}],                        {\"template\":{\"data\":{\"histogram2dcontour\":[{\"type\":\"histogram2dcontour\",\"colorbar\":{\"outlinewidth\":0,\"ticks\":\"\"},\"colorscale\":[[0.0,\"#0d0887\"],[0.1111111111111111,\"#46039f\"],[0.2222222222222222,\"#7201a8\"],[0.3333333333333333,\"#9c179e\"],[0.4444444444444444,\"#bd3786\"],[0.5555555555555556,\"#d8576b\"],[0.6666666666666666,\"#ed7953\"],[0.7777777777777778,\"#fb9f3a\"],[0.8888888888888888,\"#fdca26\"],[1.0,\"#f0f921\"]]}],\"choropleth\":[{\"type\":\"choropleth\",\"colorbar\":{\"outlinewidth\":0,\"ticks\":\"\"}}],\"histogram2d\":[{\"type\":\"histogram2d\",\"colorbar\":{\"outlinewidth\":0,\"ticks\":\"\"},\"colorscale\":[[0.0,\"#0d0887\"],[0.1111111111111111,\"#46039f\"],[0.2222222222222222,\"#7201a8\"],[0.3333333333333333,\"#9c179e\"],[0.4444444444444444,\"#bd3786\"],[0.5555555555555556,\"#d8576b\"],[0.6666666666666666,\"#ed7953\"],[0.7777777777777778,\"#fb9f3a\"],[0.8888888888888888,\"#fdca26\"],[1.0,\"#f0f921\"]]}],\"heatmap\":[{\"type\":\"heatmap\",\"colorbar\":{\"outlinewidth\":0,\"ticks\":\"\"},\"colorscale\":[[0.0,\"#0d0887\"],[0.1111111111111111,\"#46039f\"],[0.2222222222222222,\"#7201a8\"],[0.3333333333333333,\"#9c179e\"],[0.4444444444444444,\"#bd3786\"],[0.5555555555555556,\"#d8576b\"],[0.6666666666666666,\"#ed7953\"],[0.7777777777777778,\"#fb9f3a\"],[0.8888888888888888,\"#fdca26\"],[1.0,\"#f0f921\"]]}],\"heatmapgl\":[{\"type\":\"heatmapgl\",\"colorbar\":{\"outlinewidth\":0,\"ticks\":\"\"},\"colorscale\":[[0.0,\"#0d0887\"],[0.1111111111111111,\"#46039f\"],[0.2222222222222222,\"#7201a8\"],[0.3333333333333333,\"#9c179e\"],[0.4444444444444444,\"#bd3786\"],[0.5555555555555556,\"#d8576b\"],[0.6666666666666666,\"#ed7953\"],[0.7777777777777778,\"#fb9f3a\"],[0.8888888888888888,\"#fdca26\"],[1.0,\"#f0f921\"]]}],\"contourcarpet\":[{\"type\":\"contourcarpet\",\"colorbar\":{\"outlinewidth\":0,\"ticks\":\"\"}}],\"contour\":[{\"type\":\"contour\",\"colorbar\":{\"outlinewidth\":0,\"ticks\":\"\"},\"colorscale\":[[0.0,\"#0d0887\"],[0.1111111111111111,\"#46039f\"],[0.2222222222222222,\"#7201a8\"],[0.3333333333333333,\"#9c179e\"],[0.4444444444444444,\"#bd3786\"],[0.5555555555555556,\"#d8576b\"],[0.6666666666666666,\"#ed7953\"],[0.7777777777777778,\"#fb9f3a\"],[0.8888888888888888,\"#fdca26\"],[1.0,\"#f0f921\"]]}],\"surface\":[{\"type\":\"surface\",\"colorbar\":{\"outlinewidth\":0,\"ticks\":\"\"},\"colorscale\":[[0.0,\"#0d0887\"],[0.1111111111111111,\"#46039f\"],[0.2222222222222222,\"#7201a8\"],[0.3333333333333333,\"#9c179e\"],[0.4444444444444444,\"#bd3786\"],[0.5555555555555556,\"#d8576b\"],[0.6666666666666666,\"#ed7953\"],[0.7777777777777778,\"#fb9f3a\"],[0.8888888888888888,\"#fdca26\"],[1.0,\"#f0f921\"]]}],\"mesh3d\":[{\"type\":\"mesh3d\",\"colorbar\":{\"outlinewidth\":0,\"ticks\":\"\"}}],\"scatter\":[{\"fillpattern\":{\"fillmode\":\"overlay\",\"size\":10,\"solidity\":0.2},\"type\":\"scatter\"}],\"parcoords\":[{\"type\":\"parcoords\",\"line\":{\"colorbar\":{\"outlinewidth\":0,\"ticks\":\"\"}}}],\"scatterpolargl\":[{\"type\":\"scatterpolargl\",\"marker\":{\"colorbar\":{\"outlinewidth\":0,\"ticks\":\"\"}}}],\"bar\":[{\"error_x\":{\"color\":\"#2a3f5f\"},\"error_y\":{\"color\":\"#2a3f5f\"},\"marker\":{\"line\":{\"color\":\"#E5ECF6\",\"width\":0.5},\"pattern\":{\"fillmode\":\"overlay\",\"size\":10,\"solidity\":0.2}},\"type\":\"bar\"}],\"scattergeo\":[{\"type\":\"scattergeo\",\"marker\":{\"colorbar\":{\"outlinewidth\":0,\"ticks\":\"\"}}}],\"scatterpolar\":[{\"type\":\"scatterpolar\",\"marker\":{\"colorbar\":{\"outlinewidth\":0,\"ticks\":\"\"}}}],\"histogram\":[{\"marker\":{\"pattern\":{\"fillmode\":\"overlay\",\"size\":10,\"solidity\":0.2}},\"type\":\"histogram\"}],\"scattergl\":[{\"type\":\"scattergl\",\"marker\":{\"colorbar\":{\"outlinewidth\":0,\"ticks\":\"\"}}}],\"scatter3d\":[{\"type\":\"scatter3d\",\"line\":{\"colorbar\":{\"outlinewidth\":0,\"ticks\":\"\"}},\"marker\":{\"colorbar\":{\"outlinewidth\":0,\"ticks\":\"\"}}}],\"scattermapbox\":[{\"type\":\"scattermapbox\",\"marker\":{\"colorbar\":{\"outlinewidth\":0,\"ticks\":\"\"}}}],\"scatterternary\":[{\"type\":\"scatterternary\",\"marker\":{\"colorbar\":{\"outlinewidth\":0,\"ticks\":\"\"}}}],\"scattercarpet\":[{\"type\":\"scattercarpet\",\"marker\":{\"colorbar\":{\"outlinewidth\":0,\"ticks\":\"\"}}}],\"carpet\":[{\"aaxis\":{\"endlinecolor\":\"#2a3f5f\",\"gridcolor\":\"white\",\"linecolor\":\"white\",\"minorgridcolor\":\"white\",\"startlinecolor\":\"#2a3f5f\"},\"baxis\":{\"endlinecolor\":\"#2a3f5f\",\"gridcolor\":\"white\",\"linecolor\":\"white\",\"minorgridcolor\":\"white\",\"startlinecolor\":\"#2a3f5f\"},\"type\":\"carpet\"}],\"table\":[{\"cells\":{\"fill\":{\"color\":\"#EBF0F8\"},\"line\":{\"color\":\"white\"}},\"header\":{\"fill\":{\"color\":\"#C8D4E3\"},\"line\":{\"color\":\"white\"}},\"type\":\"table\"}],\"barpolar\":[{\"marker\":{\"line\":{\"color\":\"#E5ECF6\",\"width\":0.5},\"pattern\":{\"fillmode\":\"overlay\",\"size\":10,\"solidity\":0.2}},\"type\":\"barpolar\"}],\"pie\":[{\"automargin\":true,\"type\":\"pie\"}]},\"layout\":{\"autotypenumbers\":\"strict\",\"colorway\":[\"#636efa\",\"#EF553B\",\"#00cc96\",\"#ab63fa\",\"#FFA15A\",\"#19d3f3\",\"#FF6692\",\"#B6E880\",\"#FF97FF\",\"#FECB52\"],\"font\":{\"color\":\"#2a3f5f\"},\"hovermode\":\"closest\",\"hoverlabel\":{\"align\":\"left\"},\"paper_bgcolor\":\"white\",\"plot_bgcolor\":\"#E5ECF6\",\"polar\":{\"bgcolor\":\"#E5ECF6\",\"angularaxis\":{\"gridcolor\":\"white\",\"linecolor\":\"white\",\"ticks\":\"\"},\"radialaxis\":{\"gridcolor\":\"white\",\"linecolor\":\"white\",\"ticks\":\"\"}},\"ternary\":{\"bgcolor\":\"#E5ECF6\",\"aaxis\":{\"gridcolor\":\"white\",\"linecolor\":\"white\",\"ticks\":\"\"},\"baxis\":{\"gridcolor\":\"white\",\"linecolor\":\"white\",\"ticks\":\"\"},\"caxis\":{\"gridcolor\":\"white\",\"linecolor\":\"white\",\"ticks\":\"\"}},\"coloraxis\":{\"colorbar\":{\"outlinewidth\":0,\"ticks\":\"\"}},\"colorscale\":{\"sequential\":[[0.0,\"#0d0887\"],[0.1111111111111111,\"#46039f\"],[0.2222222222222222,\"#7201a8\"],[0.3333333333333333,\"#9c179e\"],[0.4444444444444444,\"#bd3786\"],[0.5555555555555556,\"#d8576b\"],[0.6666666666666666,\"#ed7953\"],[0.7777777777777778,\"#fb9f3a\"],[0.8888888888888888,\"#fdca26\"],[1.0,\"#f0f921\"]],\"sequentialminus\":[[0.0,\"#0d0887\"],[0.1111111111111111,\"#46039f\"],[0.2222222222222222,\"#7201a8\"],[0.3333333333333333,\"#9c179e\"],[0.4444444444444444,\"#bd3786\"],[0.5555555555555556,\"#d8576b\"],[0.6666666666666666,\"#ed7953\"],[0.7777777777777778,\"#fb9f3a\"],[0.8888888888888888,\"#fdca26\"],[1.0,\"#f0f921\"]],\"diverging\":[[0,\"#8e0152\"],[0.1,\"#c51b7d\"],[0.2,\"#de77ae\"],[0.3,\"#f1b6da\"],[0.4,\"#fde0ef\"],[0.5,\"#f7f7f7\"],[0.6,\"#e6f5d0\"],[0.7,\"#b8e186\"],[0.8,\"#7fbc41\"],[0.9,\"#4d9221\"],[1,\"#276419\"]]},\"xaxis\":{\"gridcolor\":\"white\",\"linecolor\":\"white\",\"ticks\":\"\",\"title\":{\"standoff\":15},\"zerolinecolor\":\"white\",\"automargin\":true,\"zerolinewidth\":2},\"yaxis\":{\"gridcolor\":\"white\",\"linecolor\":\"white\",\"ticks\":\"\",\"title\":{\"standoff\":15},\"zerolinecolor\":\"white\",\"automargin\":true,\"zerolinewidth\":2},\"scene\":{\"xaxis\":{\"backgroundcolor\":\"#E5ECF6\",\"gridcolor\":\"white\",\"linecolor\":\"white\",\"showbackground\":true,\"ticks\":\"\",\"zerolinecolor\":\"white\",\"gridwidth\":2},\"yaxis\":{\"backgroundcolor\":\"#E5ECF6\",\"gridcolor\":\"white\",\"linecolor\":\"white\",\"showbackground\":true,\"ticks\":\"\",\"zerolinecolor\":\"white\",\"gridwidth\":2},\"zaxis\":{\"backgroundcolor\":\"#E5ECF6\",\"gridcolor\":\"white\",\"linecolor\":\"white\",\"showbackground\":true,\"ticks\":\"\",\"zerolinecolor\":\"white\",\"gridwidth\":2}},\"shapedefaults\":{\"line\":{\"color\":\"#2a3f5f\"}},\"annotationdefaults\":{\"arrowcolor\":\"#2a3f5f\",\"arrowhead\":0,\"arrowwidth\":1},\"geo\":{\"bgcolor\":\"white\",\"landcolor\":\"#E5ECF6\",\"subunitcolor\":\"white\",\"showland\":true,\"showlakes\":true,\"lakecolor\":\"white\"},\"title\":{\"x\":0.05},\"mapbox\":{\"style\":\"light\"}}},\"xaxis\":{\"anchor\":\"y\",\"domain\":[0.0,0.05243243243243244],\"tickangle\":15},\"yaxis\":{\"anchor\":\"x\",\"domain\":[0.0,1.0],\"tick0\":20,\"dtick\":20},\"xaxis2\":{\"anchor\":\"y2\",\"domain\":[0.058432432432432437,0.47789189189189196],\"tickangle\":15},\"yaxis2\":{\"anchor\":\"x2\",\"domain\":[0.0,1.0],\"matches\":\"y\",\"showticklabels\":false,\"tick0\":20,\"dtick\":20},\"xaxis3\":{\"anchor\":\"y3\",\"domain\":[0.48389189189189197,0.5625405405405406],\"tickangle\":15},\"yaxis3\":{\"anchor\":\"x3\",\"domain\":[0.0,1.0],\"matches\":\"y\",\"showticklabels\":false,\"tick0\":20,\"dtick\":20},\"xaxis4\":{\"anchor\":\"y4\",\"domain\":[0.5685405405405406,0.6471891891891892],\"tickangle\":15},\"yaxis4\":{\"anchor\":\"x4\",\"domain\":[0.0,1.0],\"matches\":\"y\",\"showticklabels\":false,\"tick0\":20,\"dtick\":20},\"xaxis5\":{\"anchor\":\"y5\",\"domain\":[0.6531891891891892,0.9153513513513514],\"tickangle\":15},\"yaxis5\":{\"anchor\":\"x5\",\"domain\":[0.0,1.0],\"matches\":\"y\",\"showticklabels\":false,\"tick0\":20,\"dtick\":20},\"xaxis6\":{\"anchor\":\"y6\",\"domain\":[0.9213513513513514,1.0],\"tickangle\":15},\"yaxis6\":{\"anchor\":\"x6\",\"domain\":[0.0,1.0],\"matches\":\"y\",\"showticklabels\":false,\"tick0\":20,\"dtick\":20},\"annotations\":[{\"font\":{\"size\":16},\"showarrow\":false,\"text\":\"Anatomy\",\"x\":0.02621621621621622,\"xanchor\":\"center\",\"xref\":\"paper\",\"y\":1.0,\"yanchor\":\"bottom\",\"yref\":\"paper\"},{\"font\":{\"size\":16},\"showarrow\":false,\"text\":\"Biodiv\",\"x\":0.2681621621621622,\"xanchor\":\"center\",\"xref\":\"paper\",\"y\":1.0,\"yanchor\":\"bottom\",\"yref\":\"paper\"},{\"font\":{\"size\":16},\"showarrow\":false,\"text\":\"Phenotype\",\"x\":0.5232162162162163,\"xanchor\":\"center\",\"xref\":\"paper\",\"y\":1.0,\"yanchor\":\"bottom\",\"yref\":\"paper\"},{\"font\":{\"size\":16},\"showarrow\":false,\"text\":\"CommonKG\",\"x\":0.6078648648648649,\"xanchor\":\"center\",\"xref\":\"paper\",\"y\":1.0,\"yanchor\":\"bottom\",\"yref\":\"paper\"},{\"font\":{\"size\":16},\"showarrow\":false,\"text\":\"Bio-ML\",\"x\":0.7842702702702703,\"xanchor\":\"center\",\"xref\":\"paper\",\"y\":1.0,\"yanchor\":\"bottom\",\"yref\":\"paper\"},{\"font\":{\"size\":16},\"showarrow\":false,\"text\":\"MSE\",\"x\":0.9606756756756757,\"xanchor\":\"center\",\"xref\":\"paper\",\"y\":1.0,\"yanchor\":\"bottom\",\"yref\":\"paper\"}],\"legend\":{\"font\":{\"size\":12},\"orientation\":\"h\",\"y\":1.05,\"x\":0.5,\"yanchor\":\"bottom\",\"xanchor\":\"center\"},\"margin\":{\"l\":0,\"r\":0,\"t\":0,\"b\":0},\"font\":{\"size\":15},\"title\":{},\"scattermode\":\"group\",\"scattergap\":0.7,\"width\":1300,\"height\":520},                        {\"responsive\": true}                    ).then(function(){\n",
       "                            \n",
       "var gd = document.getElementById('7a34de88-97c0-4cb9-90d3-4064bd1165e4');\n",
       "var x = new MutationObserver(function (mutations, observer) {{\n",
       "        var display = window.getComputedStyle(gd).display;\n",
       "        if (!display || display === 'none') {{\n",
       "            console.log([gd, 'removed!']);\n",
       "            Plotly.purge(gd);\n",
       "            observer.disconnect();\n",
       "        }}\n",
       "}});\n",
       "\n",
       "// Listen for the removal of the full notebook cells\n",
       "var notebookContainer = gd.closest('#notebook-container');\n",
       "if (notebookContainer) {{\n",
       "    x.observe(notebookContainer, {childList: true});\n",
       "}}\n",
       "\n",
       "// Listen for the clearing of the current output cell\n",
       "var outputEl = gd.closest('.output');\n",
       "if (outputEl) {{\n",
       "    x.observe(outputEl, {childList: true});\n",
       "}}\n",
       "\n",
       "                        })                };                });            </script>        </div>"
      ]
     },
     "metadata": {},
     "output_type": "display_data"
    }
   ],
   "source": [
    "fig = make_subplots(rows=1, cols=6, shared_yaxes=True,  column_widths=[0.1, 0.8, 0.15, 0.15, 0.5, 0.15], \n",
    "                    horizontal_spacing = 0.006,  subplot_titles=(\"Anatomy\", \"Biodiv\", \"Phenotype\", \"CommonKG\", \"Bio-ML\", \"MSE\"))\n",
    "\n",
    "symol_size = 12\n",
    "top_k = 5\n",
    "\n",
    "encoder='label'\n",
    "results_matrix = []\n",
    "model_names = []\n",
    "\n",
    "for model, group in df.groupby(\"model\"):\n",
    "    results = []\n",
    "    model_names.append(model)\n",
    "    for dataset in list(dataset_names_mapper.keys()):\n",
    "        for dataset_name, data_results in group.groupby(\"ontology-name\"):\n",
    "            if dataset_name == dataset:\n",
    "                data_results_df = data_results[data_results['encoder-representation']==encoder]\n",
    "                data_results_df = data_results_df[data_results_df['model-config'] == top_k]\n",
    "                results.append(data_results_df['recall'].iloc[0])\n",
    "    results_matrix.append(results)\n",
    "    \n",
    "results_matrix = np.array(results_matrix)\n",
    "for col, (track, indexes) in enumerate(tracks.items()):\n",
    "    if col == 0:\n",
    "        legend_visible = True\n",
    "    else:\n",
    "        legend_visible = False\n",
    "    for i in range(0, 4):\n",
    "        # print(results_matrix[i][indexes[0]:indexes[1]])\n",
    "        fig.add_trace(go.Scatter(\n",
    "            \n",
    "            x=list(dataset_names_mapper.values())[indexes[0]:indexes[1]],\n",
    "            y=results_matrix[i][indexes[0]:indexes[1]],\n",
    "            name = model_name_mapper[model_names[i]]+\" (C)\",\n",
    "            showlegend=legend_visible,\n",
    "            # legendgroup= encoder,\n",
    "            # legendgrouptitle_text=\"Concept\",\n",
    "            # visible = legend_visible,\n",
    "            line_color=colors_dict[encoder],\n",
    "            mode='markers',\n",
    "            marker=dict(\n",
    "                size=symol_size, symbol=markers_dict[model_names[i]] + \"-open\" #, opacity=dot_opacity\n",
    "            )\n",
    "            ), row=1, col=col+1)\n",
    "\n",
    "\n",
    "encoder='label-children'\n",
    "results_matrix = []\n",
    "model_names = []\n",
    "\n",
    "for model, group in df.groupby(\"model\"):\n",
    "    results = []\n",
    "    model_names.append(model)\n",
    "    for dataset in list(dataset_names_mapper.keys()):\n",
    "        for dataset_name, data_results in group.groupby(\"ontology-name\"):\n",
    "            if dataset_name == dataset:\n",
    "                data_results_df = data_results[data_results['encoder-representation']==encoder]\n",
    "                data_results_df = data_results_df[data_results_df['model-config'] == top_k]\n",
    "                try:\n",
    "                    results.append(data_results_df['recall'].iloc[0])\n",
    "                except:\n",
    "                    results.append(0)\n",
    "    results_matrix.append(results)\n",
    "    \n",
    "results_matrix = np.array(results_matrix)\n",
    "for col, (track, indexes) in enumerate(tracks.items()):\n",
    "    for i in range(0, 4):\n",
    "        if col == 1:\n",
    "            legend_visible = True\n",
    "        else:\n",
    "            legend_visible = False\n",
    "        if model_names[i] != \"AdaRetrieval\":\n",
    "            fig.add_trace(go.Scatter(\n",
    "                x=list(dataset_names_mapper.values())[indexes[0]:indexes[1]],\n",
    "                y=results_matrix[i][indexes[0]:indexes[1]],\n",
    "                name = model_name_mapper[model_names[i]]+\" (CC)\",\n",
    "                showlegend=legend_visible,\n",
    "                # legendgroup= encoder,\n",
    "                # legendgrouptitle_text=\"Concept-Children\",\n",
    "                line_color= colors_dict[encoder],\n",
    "                mode='markers',\n",
    "                marker=dict(\n",
    "                    size=symol_size, symbol=markers_dict[model_names[i]] + \"-open\"#, opacity=dot_opacity\n",
    "                )\n",
    "            ), row=1, col=col+1)\n",
    "\n",
    "    \n",
    "encoder='label-parent'\n",
    "results_matrix = []\n",
    "model_names = []\n",
    "\n",
    "for model, group in df.groupby(\"model\"):\n",
    "    results = []\n",
    "    model_names.append(model)\n",
    "    for dataset in list(dataset_names_mapper.keys()):\n",
    "        for dataset_name, data_results in group.groupby(\"ontology-name\"):\n",
    "            if dataset_name == dataset:\n",
    "                data_results_df = data_results[data_results['encoder-representation']==encoder]\n",
    "                data_results_df = data_results_df[data_results_df['model-config'] == top_k]\n",
    "                try:\n",
    "                    results.append(data_results_df['recall'].iloc[0])\n",
    "                except:\n",
    "                    results.append(0)\n",
    "    results_matrix.append(results)\n",
    "\n",
    "results_matrix = np.array(results_matrix)\n",
    "for col, (track, indexes) in enumerate(tracks.items()):\n",
    "    if col == 1:\n",
    "         legend_visible = True\n",
    "    else:\n",
    "        legend_visible = False\n",
    "    for i in range(0, 4):\n",
    "        if model_names[i] != \"AdaRetrieval\":\n",
    "\n",
    "            fig.add_trace(go.Scatter(\n",
    "                x=list(dataset_names_mapper.values())[indexes[0]:indexes[1]],\n",
    "                y=results_matrix[i][indexes[0]:indexes[1]],\n",
    "               name = model_name_mapper[model_names[i]]+\" (CP)\",\n",
    "                # legendgroup= encoder,\n",
    "                showlegend=legend_visible,\n",
    "                # legendgrouptitle_text=\"Concept-Parents\",\n",
    "                line_color=colors_dict[encoder],\n",
    "                mode='markers',\n",
    "                marker=dict(\n",
    "                    size=symol_size, symbol=markers_dict[model_names[i]] + \"-open\"#, opacity=dot_opacity\n",
    "                ) \n",
    "            ),row=1, col=col+1)\n",
    "\n",
    "\n",
    "fig.update_layout(title=None,\n",
    "                  scattermode=\"group\",\n",
    "                  scattergap= 0.7,\n",
    "                  width=width,\n",
    "                  height=height,\n",
    "                  legend=dict( \n",
    "                      orientation=\"h\", \n",
    "                      # y=0.007,\n",
    "                      y=1.05,\n",
    "                      # x=1,\n",
    "                      x = 0.5,\n",
    "                      yanchor='bottom',\n",
    "                      # xanchor=\"right\",\n",
    "                      font = dict(size = 12),\n",
    "                      xanchor = \"center\"\n",
    "                  ),\n",
    "                  margin=dict(l=0, r=0, t=0, b=0),\n",
    "                  # margin=dict(t=0, b=0, l=0, r=0),\n",
    "                  font  = dict(size=15),\n",
    "                  )\n",
    "\n",
    "fig.update_xaxes(\n",
    "        tickangle = 15,\n",
    ")\n",
    "\n",
    "fig.update_yaxes(tick0=20, dtick=20)\n",
    "fig.show()\n",
    "\n",
    "fig.write_image(\"../images/retriever-model-results.pdf\",\n",
    "                width=width,\n",
    "                height=height)\n",
    "fig.write_image(\"../images/retriever-model-results.jpeg\",\n",
    "                width=width,\n",
    "                height=height, scale=5)\n",
    "fig.write_image(\"../images/retriever-model-results.svg\",width=width,\n",
    "                height=height)"
   ]
  }
 ],
 "metadata": {
  "kernelspec": {
   "display_name": "Python 3",
   "language": "python",
   "name": "python3"
  },
  "language_info": {
   "codemirror_mode": {
    "name": "ipython",
    "version": 3
   },
   "file_extension": ".py",
   "mimetype": "text/x-python",
   "name": "python",
   "nbconvert_exporter": "python",
   "pygments_lexer": "ipython3",
   "version": "3.9.16"
  }
 },
 "nbformat": 4,
 "nbformat_minor": 5
}
