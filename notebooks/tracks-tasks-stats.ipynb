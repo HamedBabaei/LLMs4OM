{
 "cells": [
  {
   "cell_type": "code",
   "execution_count": null,
   "id": "b3c1a1bc-650d-436e-9bad-a8c193b057ef",
   "metadata": {
    "tags": []
   },
   "outputs": [],
   "source": [
    "# -*- coding: utf-8 -*-\n",
    "import os\n",
    "import __init__\n",
    "\n",
    "from ontomap.base import BaseConfig\n",
    "from ontomap.ontology import ontology_matching\n",
    "from ontomap.utils import io\n",
    "\n",
    "root_dataset_dir = \"../datasets\"\n",
    "\n",
    "statistics = {}\n",
    "\n",
    "config = BaseConfig(root_dataset_dir=root_dataset_dir).get_args()\n",
    "for ontology, oms in ontology_matching.items():\n",
    "    print(f\"working on {ontology} track OM pairs!\")\n",
    "    for om in oms:\n",
    "        print(f\"\\t {om.ontology_name} pairs is processing!\")\n",
    "        dataset = om().collect(root_dir=config.root_dir)\n",
    "        if dataset['dataset-info']['track'] not in statistics:\n",
    "            statistics[dataset['dataset-info']['track']] = []\n",
    "        if dataset['dataset-info']['track'] == 'bio-llm':\n",
    "            ref_len = len(dataset['reference']['test-cands'])\n",
    "        elif dataset['dataset-info']['track'] == 'bio-ml':\n",
    "            ref_len = len(dataset['reference']['equiv']['full'])+len(dataset['reference']['subs']['test-cands'])+len(dataset['reference']['subs']['train'])\n",
    "        else:\n",
    "            ref_len = len(dataset['reference'])\n",
    "        statistics[dataset['dataset-info']['track']].append({\n",
    "            \"task\": dataset['dataset-info']['ontology-name'],\n",
    "            \"source\": len(dataset['source']), \n",
    "            \"target\": len(dataset['target']),\n",
    "            \"reference\": ref_len\n",
    "        })"
   ]
  },
  {
   "cell_type": "code",
   "execution_count": 5,
   "id": "3e83baf6-8730-4a1b-b833-6fbf87375b28",
   "metadata": {},
   "outputs": [
    {
     "name": "stdout",
     "output_type": "stream",
     "text": [
      "anatomy\t \t mouse-human \t 2737 \t 3298 \t 1516\n",
      "------------------------------------------------------------------------------------------\n",
      "food\t \t ciqual-siren \t 2807 \t 19886 \t 178\n",
      "------------------------------------------------------------------------------------------\n",
      "biodiv\t \t envo-sweet \t 6566 \t 4525 \t 805\n",
      "\t \t fish-zooplankton \t 145 \t 56 \t 15\n",
      "\t \t macroalgae-macrozoobenthos \t 108 \t 128 \t 18\n",
      "\t \t taxrefldBacteria-ncbitaxonBacteria \t 312 \t 326 \t 175\n",
      "\t \t taxrefldChromista-ncbitaxonChromista \t 2290 \t 2344 \t 1405\n",
      "\t \t taxrefldFungi-ncbitaxonFungi \t 12732 \t 13149 \t 10162\n",
      "\t \t taxrefldPlantae-ncbitaxonPlantae \t 26302 \t 27013 \t 19914\n",
      "\t \t taxrefldProtozoa-ncbitaxonProtozoa \t 501 \t 538 \t 357\n",
      "------------------------------------------------------------------------------------------\n",
      "phenotype\t \t doid-ordo \t 15509 \t 13504 \t 1237\n",
      "\t \t hp-mp \t 40703 \t 37965 \t 696\n",
      "------------------------------------------------------------------------------------------\n",
      "commonkg\t \t nell-dbpedia \t 134 \t 137 \t 129\n",
      "\t \t yago-wikidata \t 304 \t 304 \t 304\n",
      "------------------------------------------------------------------------------------------\n",
      "bio-ml\t \t ncit-doid.disease \t 15762 \t 8465 \t 8025\n",
      "\t \t omim-ordo.disease \t 9648 \t 9275 \t 3824\n",
      "\t \t snomed-fma.body \t 34418 \t 88955 \t 12762\n",
      "\t \t snomed-ncit.neoplas \t 22971 \t 20247 \t 4017\n",
      "\t \t snomed-ncit.pharm \t 29500 \t 22136 \t 10028\n",
      "------------------------------------------------------------------------------------------\n",
      "bio-llm\t \t snomed-fma.body \t 34418 \t 88955 \t 100\n",
      "\t \t ncit-doid.disease \t 15762 \t 8465 \t 100\n",
      "------------------------------------------------------------------------------------------\n"
     ]
    }
   ],
   "source": [
    "for track, track_items in statistics.items():\n",
    "    print(track, end=\"\")\n",
    "    for task in track_items:\n",
    "        print(\"\\t\", \"\\t\", task['task'], \"\\t\", task['source'], \"\\t\", task['target'], \"\\t\", task['reference'])\n",
    "        # print()\n",
    "    print(\"-\"*90)"
   ]
  },
  {
   "cell_type": "code",
   "execution_count": 6,
   "id": "5b29236a-6130-4246-a373-78fb8ca50d3e",
   "metadata": {},
   "outputs": [],
   "source": [
    "io.write_json(output_path=os.path.join(\"../experiments/stats\", \"tracks-tasks-stats.json\"),\n",
    "              json_data=statistics)"
   ]
  },
  {
   "cell_type": "code",
   "execution_count": null,
   "id": "4f9866b2-8992-437c-b46b-aed91be2ca7f",
   "metadata": {},
   "outputs": [],
   "source": []
  }
 ],
 "metadata": {
  "kernelspec": {
   "display_name": "Python 3",
   "language": "python",
   "name": "python3"
  },
  "language_info": {
   "codemirror_mode": {
    "name": "ipython",
    "version": 3
   },
   "file_extension": ".py",
   "mimetype": "text/x-python",
   "name": "python",
   "nbconvert_exporter": "python",
   "pygments_lexer": "ipython3",
   "version": "3.9.16"
  }
 },
 "nbformat": 4,
 "nbformat_minor": 5
}
